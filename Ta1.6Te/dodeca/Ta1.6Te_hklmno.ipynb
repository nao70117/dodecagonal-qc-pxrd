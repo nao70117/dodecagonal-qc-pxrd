{
 "cells": [
  {
   "cell_type": "code",
   "execution_count": 1,
   "id": "c2ce2e6e-afc6-4f99-aaf6-b3383b8fd9b6",
   "metadata": {},
   "outputs": [
    {
     "data": {
      "image/png": "[encoded data removed]",
      "text/plain": [
       "<Figure size 640x480 with 1 Axes>"
      ]
     },
     "metadata": {},
     "output_type": "display_data"
    }
   ],
   "source": [
    "import matplotlib.pyplot as plt\n",
    "import numpy as np\n",
    "import math\n",
    "import pylab\n",
    "\n",
    "def calc_asf(p, theta): # Atomic scattering factor\n",
    "    a = [p[0], p[2], p[4], p[6], p[8]]\n",
    "    b = [p[1], p[3], p[5], p[7], p[9]]\n",
    "    c = p[10]\n",
    "    sum_ = 0.0\n",
    "    for i in range(5):\n",
    "        sum_ = sum_+ a[i]*math.exp(-1.0*b[i]*math.sin(theta/180.0*pi)**2.0/wvl**2.0)\n",
    "    return sum_+c\n",
    "\n",
    "def calc_peaks(num, tth_min, tth_max):\n",
    "    peak_list = []\n",
    "    for h in range(-num, num+1):\n",
    "        for k in range(-num, num+1):\n",
    "            for l in range(-num, num+1):\n",
    "                extinction_ch = h%2+k%2+l%2 # Extinction rule\n",
    "                if extinction_ch != 0 and extinction_ch != 3:\n",
    "                    continue\n",
    "                try:\n",
    "                    tth = 2*math.asin((h**2+k**2+l**2)**0.5*wvl/lc/2)*180/pi\n",
    "                    if tth_min<=tth<=tth_max:\n",
    "                        peak_list.append([h, k, l, tth])\n",
    "                except:\n",
    "                    pass\n",
    "    return peak_list\n",
    "\n",
    "def calc_F(h, k, l, tth):\n",
    "    F_R, F_I = 0, 0\n",
    "    for posi in posi_list:\n",
    "        x, y, z, atom = posi\n",
    "        asf = calc_asf(dic_asf[atom], tth/2)\n",
    "        p0 = 2*pi*(h*x+k*y+l*z)\n",
    "        F_R += math.cos(p0)*asf\n",
    "        F_I += math.sin(p0)*asf\n",
    "    return 2*F_R, F_I\n",
    "\n",
    "def calc_LP(theta): #Lorentz-polarization factor\n",
    "    p1=math.cos(2.0*theta/180.0*pi)\n",
    "    p2=math.sin(theta/180.0*pi)\n",
    "    p3=math.cos(theta/180.0*pi)\n",
    "    return (1.0+p1**2.0)/p2**2.0/p3\n",
    "\n",
    "def calc_Intensity(peak_list):\n",
    "    dic_Intensity = {} # {Two theta: [Intensity, [h, k, l]]}\n",
    "    for __ in peak_list:\n",
    "        h, k, l, tth = __\n",
    "        F_R, F_I = calc_F(h, k, l, tth)\n",
    "        LP = calc_LP(tth/2.0)\n",
    "        Intensity = (F_R**2.0+F_I**2.0)*LP\n",
    "        try:\n",
    "            dic_Intensity[tth][0] += Intensity\n",
    "        except:\n",
    "            dic_Intensity[tth] = [Intensity, [h, k, l]]\n",
    "    return dic_Intensity\n",
    "\n",
    "def Lorenz(p, x): #Lorenzian\n",
    "    return ((p[0]*p[1]**2/((x-p[2])**2+p[1]**2)))\n",
    "\n",
    "pi = np.pi\n",
    "lc = 5.6\n",
    "wvl = 1.54059\n",
    "\n",
    "tth_min = 10.0\n",
    "tth_max = 100.0\n",
    "tth_step = 0.01\n",
    "\n",
    "\n",
    "posi_list = [[0.5, 0.5, 0.5, 'Na'],\\\n",
    "             [0.5, 0.0, 0.0, 'Na'],\\\n",
    "             [0.0, 0.5, 0.0, 'Na'],\\\n",
    "             [0.0, 0.0, 0.5, 'Na'],\\\n",
    "             [0.0, 0.0, 0.0, 'Cl'],\\\n",
    "             [0.5, 0.5, 0.0, 'Cl'],\\\n",
    "             [0.5, 0.0, 0.5, 'Cl'],\\\n",
    "             [0.0, 0.5, 0.5, 'Cl'],\\\n",
    "             ]\n",
    "\n",
    "\n",
    "dic_asf = {}\n",
    "dic_asf['Na'] = [4.910127, 3.281434, 3.081783, 9.119178, 1.262067, 0.102763, 1.098938, 132.013942, 0.560991, 0.405878, 0.079712]\n",
    "dic_asf['Cl'] = [1.446071, 0.052357, 6.870609, 1.193165, 6.151801, 18.343416, 1.750347, 46.398394, 0.634168, 0.4010051, 0.146773]\n",
    "\n",
    "peaks = calc_peaks(5, tth_min, tth_max)\n",
    "dic_Intensity = calc_Intensity(peaks)\n",
    "\n",
    "len_pattern = int((tth_max-tth_min)/tth_step)\n",
    "\n",
    "vector=np.array([0.0]*len_pattern)\n",
    "tths = np.arange(tth_min, tth_max, tth_step)\n",
    "for tth in dic_Intensity:\n",
    "  vector += Lorenz([dic_Intensity[tth][0], 0.1, tth], tths)\n",
    "vector = vector/np.max(vector)\n",
    "\n",
    "fig, ax = plt.subplots()\n",
    "ax.tick_params(labelleft=False)\n",
    "plt.plot(tths, vector, label=\"NaCl\", zorder=1)\n",
    "plt.rcParams['xtick.direction'] = 'in'\n",
    "plt.rcParams['ytick.direction'] = 'in'\n",
    "plt.xlabel('2θ [deg.]')\n",
    "plt.ylabel('Intensity [a.u.]')\n",
    "plt.legend()\n",
    "for tth in dic_Intensity:\n",
    "  key = int((round(tth,2)-10)*100)\n",
    "  x = tth-3\n",
    "  y = vector[key]\n",
    "  if y>=1.0:\n",
    "    y = vector[key]-0.1\n",
    "  elif y<+0.1:\n",
    "    y = vector[key]+0.02\n",
    "  hkl = str(abs(dic_Intensity[tth][1][0]))+str(abs(dic_Intensity[tth][1][1]))+str(abs(dic_Intensity[tth][1][2]))\n",
    "  plt.text(x, y, hkl, rotation=90)\n",
    "  # print((x, y, hkl))\n",
    "plt.show()\n"
   ]
  },
  {
   "cell_type": "code",
   "execution_count": 2,
   "id": "61ac28bd-808d-4df8-9115-f8c6ddbff0da",
   "metadata": {
    "id": "61ac28bd-808d-4df8-9115-f8c6ddbff0da"
   },
   "outputs": [],
   "source": [
    "import sys\n",
    "import numpy as np\n",
    "\n",
    "PI = np.pi\n",
    "SIN = np.sqrt(3)/2.0\n",
    "CONST1 = 2/np.sqrt(6)\n",
    "CONST2 = 1/np.sqrt(2)"
   ]
  },
  {
   "cell_type": "markdown",
   "id": "ea2ac4cb-ab32-436f-b78f-b3872c2a9f6e",
   "metadata": {
    "id": "ea2ac4cb-ab32-436f-b78f-b3872c2a9f6e"
   },
   "source": [
    "#### 逆格子空間での射影"
   ]
  },
  {
   "cell_type": "code",
   "execution_count": 3,
   "id": "afcd1e11-d2b6-4697-bfb2-0afe21b56b85",
   "metadata": {
    "id": "afcd1e11-d2b6-4697-bfb2-0afe21b56b85"
   },
   "outputs": [],
   "source": [
    "def prjctn_recipro_par(r,a=1.0,c=1.0):\n",
    "    \"\"\"\n",
    "    parallel component of 5D reciprocal lattice vector\n",
    "    input\n",
    "    list:r, 5D reflection index\n",
    "    float:a, lattice constant\n",
    "    float:c, lattice constant\n",
    "    \"\"\"\n",
    "    x = (1*r[0]+SIN*r[1]+0.5*r[2]       )/a*CONST2\n",
    "    y = (       0.5*r[1]+SIN*r[2]+1*r[3])/a*CONST2\n",
    "    z = r[4]/c\n",
    "    return [x,y,z]\n",
    "\n",
    "def prjctn_recipro_perp(r,a=1.0):\n",
    "    \"\"\"\n",
    "    perpendicular component of 5D reciprocal lattice vector\n",
    "    input\n",
    "    list:r, 4D reflection index\n",
    "    float:a, lattice constant\n",
    "    \"\"\"\n",
    "    x=(1*r[0]-SIN*r[1]+0.5*r[2]     )/a*CONST2\n",
    "    y=(       0.5*r[1]-SIN*r[2]+r[3])/a*CONST2\n",
    "    return [x,y]\n"
   ]
  },
  {
   "cell_type": "code",
   "execution_count": 4,
   "id": "be83e2c4-3bd2-4fd6-b829-e1cba5d3a293",
   "metadata": {
    "id": "be83e2c4-3bd2-4fd6-b829-e1cba5d3a293"
   },
   "outputs": [],
   "source": [
    "def prjctn_recipro_par_length(r,a=1.0,c=1.0):\n",
    "    [x,y,z]=prjctn_recipro_par(r,a,c)\n",
    "    return np.sqrt(x**2+y**2+z**2)\n",
    "\n",
    "def prjctn_recipro_perp_length(r,a=1.0):\n",
    "    [x,y]=prjctn_recipro_perp(r,a)\n",
    "    return np.sqrt(x**2+y**2)\n"
   ]
  },
  {
   "cell_type": "markdown",
   "id": "b32997db-e089-4e6d-88b9-a8e18b42c94a",
   "metadata": {
    "id": "b32997db-e089-4e6d-88b9-a8e18b42c94a"
   },
   "source": [
    "#### 実空間での射影"
   ]
  },
  {
   "cell_type": "code",
   "execution_count": 5,
   "id": "2abcb3cf-0fd4-4147-b0df-6c1f1ec26d40",
   "metadata": {
    "id": "2abcb3cf-0fd4-4147-b0df-6c1f1ec26d40"
   },
   "outputs": [],
   "source": [
    "def prjctn_direct_par_length(r,a=1.0,c=1.0):\n",
    "    [x,y,z]=prjctn_direct_par(r,a,c)\n",
    "    return np.sqrt(x**2+y**2+z**2)\n",
    "\n",
    "def prjctn_direct_perp_length(r,a=1.0):\n",
    "    [x,y]=prjctn_direct_perp(r,a)\n",
    "    return np.sqrt(x**2+y**2)\n"
   ]
  },
  {
   "cell_type": "code",
   "execution_count": 6,
   "id": "45aee9b0-70b0-436f-8281-edcd59e9746f",
   "metadata": {
    "id": "45aee9b0-70b0-436f-8281-edcd59e9746f"
   },
   "outputs": [],
   "source": [
    "def prjctn_direct_par(r,a=1.0,c=1.0):\n",
    "    \"\"\"\n",
    "    parallel component of 5D reciprocal lattice vector\n",
    "    input\n",
    "    list:r, 5D reflection index\n",
    "    float:a, lattice constant\n",
    "    float:c, lattice constant\n",
    "    \"\"\"\n",
    "    x = ( SIN*r[0]+r[1]     -0.5*r[3])*a*CONST1\n",
    "    y = (-0.5*r[0]     +r[2]+SIN*r[3])*a*CONST1\n",
    "    z = r[4]*c\n",
    "    return [x,y,z]\n",
    "\n",
    "def prjctn_direct_perp(r,a=1.0):\n",
    "    \"\"\"\n",
    "    perpendicular component of 5D reciprocal lattice vector\n",
    "    input\n",
    "    list:r, 5D reflection index\n",
    "    float:a, lattice constant\n",
    "    \"\"\"\n",
    "    x = (-SIN*r[0]+r[1]-0.5*r[3])*a*CONST1\n",
    "    y = (-0.5*r[0]+r[2]-SIN*r[3])*a*CONST1\n",
    "    return [x,y]\n"
   ]
  },
  {
   "cell_type": "markdown",
   "id": "38758349-8ce5-4a32-8741-56e859f92f2c",
   "metadata": {
    "id": "38758349-8ce5-4a32-8741-56e859f92f2c"
   },
   "source": [
    "#### 回折角"
   ]
  },
  {
   "cell_type": "code",
   "execution_count": 7,
   "id": "eb3f910d-40d8-4c0f-8721-822945078395",
   "metadata": {
    "id": "eb3f910d-40d8-4c0f-8721-822945078395"
   },
   "outputs": [],
   "source": [
    "def reflection_angle(wvl,hklmno,a,c):\n",
    "    \"\"\"\n",
    "    return theta-angle in rad.\n",
    "    \"\"\"\n",
    "    qpar = prjctn_recipro_par_length(hklmno,a,c)\n",
    "    theta = np.arcsin(qpar*wvl/2)\n",
    "    return theta\n"
   ]
  },
  {
   "cell_type": "markdown",
   "id": "fde412a6-49d5-4f7b-8875-fc0498d6ab76",
   "metadata": {
    "id": "fde412a6-49d5-4f7b-8875-fc0498d6ab76"
   },
   "source": [
    "#### フーリエ変換"
   ]
  },
  {
   "cell_type": "code",
   "execution_count": 8,
   "id": "eb462a12-5826-48a0-944e-567cb8c50b80",
   "metadata": {
    "id": "eb462a12-5826-48a0-944e-567cb8c50b80"
   },
   "outputs": [],
   "source": [
    "import math\n",
    "from scipy import integrate\n",
    "import cmath"
   ]
  },
  {
   "cell_type": "code",
   "execution_count": 9,
   "id": "65c546d2-471c-4051-b520-9b21dbcded90",
   "metadata": {
    "id": "65c546d2-471c-4051-b520-9b21dbcded90"
   },
   "outputs": [],
   "source": [
    "PI = np.pi\n",
    "TWOPI = 2.0*PI"
   ]
  },
  {
   "cell_type": "code",
   "execution_count": 10,
   "id": "db96b432-1eb0-4bae-a0a8-9e83893d71bd",
   "metadata": {
    "id": "db96b432-1eb0-4bae-a0a8-9e83893d71bd"
   },
   "outputs": [],
   "source": [
    "def calc_FT(hkl,xyz):\n",
    "    \"\"\"\n",
    "    格子のフーリエ変換の計算\n",
    "    see\n",
    "    Yamamoto, qcdiff, qcdiff1.f90, L.1789, subroutine stfcd(h,f,fn,dfdxx,q,ny,dfdbia)\n",
    "\n",
    "    input:\n",
    "\n",
    "    :param array hkl:\n",
    "    :param array xyz:\n",
    "    \"\"\"\n",
    "    val = 0.0+0.0*1j\n",
    "    #print('  hkl = ',hkl)\n",
    "    #print('  xyz = ',xyz)\n",
    "    if xyz.ndim == 1:\n",
    "        con1 = np.dot(hkl,xyz)\n",
    "        #print('  con1 = ',con1)\n",
    "        val = cmath.exp(TWOPI*con1*1j)\n",
    "    elif xyz.ndim == 2:\n",
    "        for i in range(len(xyz)):\n",
    "            con1 = np.dot(hkl,xyz[i])\n",
    "            val += cmath.exp(TWOPI*con1*1j)\n",
    "    else:\n",
    "        print('check your model')\n",
    "    return val"
   ]
  },
  {
   "cell_type": "code",
   "execution_count": 11,
   "id": "29185ddd-4030-4b18-ad52-0b1035a95fe9",
   "metadata": {
    "id": "29185ddd-4030-4b18-ad52-0b1035a95fe9"
   },
   "outputs": [],
   "source": [
    "def calc_od_FT(shape,obj,hkl,position,site_symmetry,flag=0,ad=1.0,scl=1.0,eps=1E-3):\n",
    "    \"\"\"This returns Fourier integral of an occupation domain.\n",
    "\n",
    "    Parameters\n",
    "    ----------\n",
    "    shape: str\n",
    "        shape of the occupation domain.\n",
    "    obj: list\n",
    "        occupation domain(set of triangle)\n",
    "    hkl: list\n",
    "        reflection index\n",
    "    position: ndarray\n",
    "        centre position of the od\n",
    "    site_symmetry: list\n",
    "        index of symmetry operation of the site symmetry\n",
    "    flag: int\n",
    "        (0) the model is centre symmetric\n",
    "        (1) the model is not centre symmetric\n",
    "    ad: float\n",
    "        dodecagonal lattica constant\n",
    "    scl: float\n",
    "        scale\n",
    "    eps: float\n",
    "\n",
    "    Returns\n",
    "    -------\n",
    "    \"\"\"\n",
    "    if shape == 'triangle':\n",
    "        if site_symmetry==[-1]: # symmetric ODs\n",
    "            od=obj\n",
    "        else: # asymmetric unit of ODs\n",
    "            od=generator_obj_symmetric_obj_specific_symop(obj,position,site_symmetry)\n",
    "            #n1,n2,n3,n4,n5=od.shape\n",
    "            #od=od.reshape(n1*n2,n3,n4,n5)\n",
    "        return fpoly(od,hkl,flag,ad,scl,eps)\n",
    "\n",
    "    else:\n",
    "        print('OD shape error')\n",
    "        return"
   ]
  },
  {
   "cell_type": "code",
   "execution_count": 12,
   "id": "bf0101f2-2180-4fbd-97a3-8aef32b3cc5a",
   "metadata": {
    "id": "bf0101f2-2180-4fbd-97a3-8aef32b3cc5a"
   },
   "outputs": [],
   "source": [
    "def fpoly(od,hkl,flag,ad,scl,eps):\n",
    "    \"\"\"This function returns Fourier integral of an indipendent occupation domain (multi-triangles)\n",
    "\n",
    "    Parameters\n",
    "    ----------\n",
    "    od: list\n",
    "        occupation domain(set of triangle)\n",
    "    hkl: list\n",
    "        reflection index\n",
    "    site: ndarray\n",
    "        centre position of the od\n",
    "    ad: float\n",
    "        dodecagonal lattica constalt\n",
    "    scl: float\n",
    "        scale\n",
    "    flag: int\n",
    "        (0) od\n",
    "        (1) inversion of od is used for calculation\n",
    "    eps: float\n",
    "\n",
    "    Returns\n",
    "    -------\n",
    "    \"\"\"\n",
    "    out=0.0+0.0*1j\n",
    "    for triangle in od:\n",
    "        e1=triangle[1]-triangle[0]\n",
    "        e2=triangle[2]-triangle[0]\n",
    "        e1 = prjctn_direct_perp(e1,ad)\n",
    "        e2 = prjctn_direct_perp(e2,ad)\n",
    "        out+=fourier2d_qcdiff_0(e1,e2,hkl,ad,scl,eps)\n",
    "    if flag==0:\n",
    "        return out\n",
    "    else:\n",
    "        # odに反転操作を行ったもののフーリエ変換は、odのフーリエ変換の共役になる。\n",
    "        return out.conjugate()"
   ]
  },
  {
   "cell_type": "code",
   "execution_count": 13,
   "id": "91a9ea08-cd88-45c5-a6ac-7b7da1c61c5d",
   "metadata": {
    "id": "91a9ea08-cd88-45c5-a6ac-7b7da1c61c5d"
   },
   "outputs": [],
   "source": [
    "def fourier2d_qcdiff_0(e1i,e2i,hkl,ad,scl,eps):\n",
    "    \"\"\"\n",
    "    Fourier integral of a triangle defined by e1 and e2.\n",
    "    Reference:\n",
    "    Yamamoto, qcdiff, occupdom.f90, L.956, complex function fq0d(hr,e1,e2,v,rmax,dfqdr)\n",
    "\n",
    "    input:\n",
    "\n",
    "    :param vertex coordinates of the triangle, e1 and e2\n",
    "    :param nd.array: hkl\n",
    "    :param float: ad\n",
    "    :param float: scl (= rmax, in qcdiff)\n",
    "    :param float: eps\n",
    "    \"\"\"\n",
    "    #projection onto the internal space of reflection indices\n",
    "    qi = prjctn_recipro_perp(hkl,ad)\n",
    "    qi = np.array(qi)\n",
    "\n",
    "    #volume of the triangle\n",
    "    vol = abs(np.cross(e1i,e2i))/2.0*scl**2\n",
    "\n",
    "    q1 = TWOPI*np.dot(qi,e1i)*scl\n",
    "    q2 = TWOPI*np.dot(qi,e2i)*scl\n",
    "    q3 = q1-q2 # ここ重要：q2-q1ではない！\n",
    "\n",
    "    cexp01 = cmath.exp(1j*q1)-1\n",
    "    cexp02 = cmath.exp(1j*q2)-1\n",
    "    cexp1 = cmath.exp(1j*q1)-1-1j*q1\n",
    "    cexp2 = cmath.exp(1j*q2)-1-1j*q2\n",
    "    dcq1dq = 1j*cmath.exp(1j*q1)-1j\n",
    "\n",
    "    if abs(q1)<eps and abs(q2)<eps:\n",
    "        val = vol/2.0\n",
    "    elif abs(q1)<eps:\n",
    "        val = -vol*cexp2/q2**2\n",
    "    elif abs(q2)<eps:\n",
    "        val = -vol*cexp1/q1**2\n",
    "    elif abs(q3)<eps:\n",
    "        val = vol*(cexp1/q1**2-dcq1dq/q1)\n",
    "    else:\n",
    "        val = vol*(q1*cexp02-q2*cexp01)/(q1*q2*q3)\n",
    "\n",
    "    return val"
   ]
  },
  {
   "cell_type": "markdown",
   "id": "645757c4-ae47-4c0a-bed8-667f7fa3c49b",
   "metadata": {
    "id": "645757c4-ae47-4c0a-bed8-667f7fa3c49b"
   },
   "source": [
    "#### ODの定義"
   ]
  },
  {
   "cell_type": "code",
   "execution_count": 14,
   "id": "a2c4abd4-630a-4854-942f-4f04d6c1b962",
   "metadata": {},
   "outputs": [],
   "source": [
    "od_B = []\n",
    "tr1 = [[0,0,0,0,0],[0,1,0,0,0],[-1,0,0,0,0]]\n",
    "tr2 = [[0,0,0,0,0],[-1,0,0,0,0],[0,0,0,-1,0]]\n",
    "tr3 = [[0,0,0,0,0],[0,0,0,-1,0],[0,0,1,0,0]]\n",
    "tr4 = [[0,0,0,0,0],[0,0,1,0,0],[0,-1,0,-1,0]]\n",
    "tr5 = [[0,0,0,0,0],[0,-1,0,-1,0],[1,0,1,0,0]]\n",
    "tr6 = [[0,0,0,0,0],[1,0,1,0,0],[0,-1,0,0,0]]\n",
    "tr7 = [[0,0,0,0,0],[0,-1,0,0,0],[1,0,0,0,0]]\n",
    "tr8 = [[0,0,0,0,0],[1,0,0,0,0],[0,0,0,1,0]]\n",
    "tr9 = [[0,0,0,0,0],[0,0,0,1,0],[0,0,-1,0,0]]\n",
    "tr10 = [[0,0,0,0,0],[0,0,-1,0,0],[0,1,0,1,0]]\n",
    "tr11 = [[0,0,0,0,0],[0,1,0,1,0,],[-1,0,-1,0,0]]\n",
    "tr12 = [[0,0,0,0,0],[-1,0,-1,0,0],[0,1,0,0,0]]\n",
    "\n",
    "od_B = np.array([tr1,tr2,tr3,tr4,tr5,tr6,tr7,tr8,tr9,tr10,tr11,tr12])"
   ]
  },
  {
   "cell_type": "markdown",
   "id": "d32c71d6-6279-40c4-8487-db2c446bd1ed",
   "metadata": {
    "id": "d32c71d6-6279-40c4-8487-db2c446bd1ed"
   },
   "source": [
    "#### 指数発生"
   ]
  },
  {
   "cell_type": "code",
   "execution_count": 15,
   "id": "d951810e-a161-48af-8703-9ad5f1f76b9c",
   "metadata": {},
   "outputs": [],
   "source": [
    "EPS=1E-6"
   ]
  },
  {
   "cell_type": "markdown",
   "id": "4e7fba04-c222-488c-bf80-876dbea49b40",
   "metadata": {},
   "source": [
    "#### 原子散乱因子"
   ]
  },
  {
   "cell_type": "code",
   "execution_count": 16,
   "id": "1cd00282-aae7-4541-b619-c2d4c3014006",
   "metadata": {},
   "outputs": [],
   "source": [
    "import atom as at\n"
   ]
  },
  {
   "cell_type": "code",
   "execution_count": 17,
   "id": "a4d2b1d3-5a5a-471e-83b2-e8038f33c7b5",
   "metadata": {},
   "outputs": [],
   "source": [
    "def calc_asf(element, theta): # Atomic scattering factor\n",
    "    p = at.aff_parameters[element]\n",
    "    a = [p[0], p[2], p[4], p[6]]\n",
    "    b = [p[1], p[3], p[5], p[7]]\n",
    "    c = p[8]\n",
    "    sum_ = 0.0\n",
    "    for i in range(4):\n",
    "        sum_ = sum_+ a[i]*math.exp(-1.0*b[i]*math.sin(theta/180.0*np.pi)**2.0/wvl**2.0)\n",
    "    return sum_+c"
   ]
  },
  {
   "cell_type": "markdown",
   "id": "71aba589-448c-441b-8c58-07fd3dd75bb6",
   "metadata": {},
   "source": [
    "#### ローレンツ因子"
   ]
  },
  {
   "cell_type": "code",
   "execution_count": 18,
   "id": "e37ad346-8e9d-49a4-8741-63c3bf2475fd",
   "metadata": {},
   "outputs": [],
   "source": [
    "def calc_LP(theta): #Lorentz-polarization factor\n",
    "    p1=math.cos(2.0*theta/180.0*np.pi)\n",
    "    p2=math.sin(theta/180.0*np.pi)\n",
    "    p3=math.cos(theta/180.0*np.pi)\n",
    "    return (1.0+p1**2.0)/p2**2.0/p3"
   ]
  },
  {
   "cell_type": "markdown",
   "id": "64dad58e-f068-4a4b-859d-b514441b42a1",
   "metadata": {},
   "source": [
    "#### 温度因子"
   ]
  },
  {
   "cell_type": "code",
   "execution_count": 19,
   "id": "ae62b908-46c6-4719-a938-59bbae18a14e",
   "metadata": {},
   "outputs": [],
   "source": [
    "B_par = 1.519\n",
    "B_perp = 54.00\n",
    "\n"
   ]
  },
  {
   "cell_type": "code",
   "execution_count": 20,
   "id": "bc01858a-195e-4fee-918c-0fbc6689a34f",
   "metadata": {},
   "outputs": [],
   "source": [
    "def temfact(B_par,B_perp,g_par,g_perp):\n",
    "    # for g in peaks_dict.values():\n",
    "    return math.exp(-(B_par*g_par**2+B_perp*g_perp**2)/4)\n",
    "\n"
   ]
  },
  {
   "cell_type": "markdown",
   "id": "f12150d9-1c0c-4e0e-a3f9-cde8a9f0f195",
   "metadata": {},
   "source": [
    "#### ローレンツ関数畳み込み"
   ]
  },
  {
   "cell_type": "code",
   "execution_count": 21,
   "id": "fcf2193b-f464-48bb-844b-c3a176a449e5",
   "metadata": {},
   "outputs": [],
   "source": [
    "def Lorenz(p, x): #Lorenzian\n",
    "    return ((p[0]*p[1]**2/((x-p[2])**2+p[1]**2)))"
   ]
  },
  {
   "cell_type": "code",
   "execution_count": 22,
   "id": "04138c00-f337-46ad-a9f6-f039385a4101",
   "metadata": {},
   "outputs": [],
   "source": [
    "def read_file(file):\n",
    "    \"\"\"\n",
    "    read a file\n",
    "    input: \n",
    "    :param file: file name of the imput.\n",
    "    \"\"\"\n",
    "    try:\n",
    "        f=open(file,'r')\n",
    "    except IOError as e:\n",
    "        print(e)\n",
    "        sys.exit(0)\n",
    "    line=[]\n",
    "    while 1:\n",
    "        a=f.readline()\n",
    "        if not a:\n",
    "            break\n",
    "        line.append(a[:-1])\n",
    "    return line"
   ]
  },
  {
   "cell_type": "markdown",
   "id": "3bc12d34-bcb5-4baa-ad14-2e910cd15dd6",
   "metadata": {},
   "source": [
    "#### 指数ファイル取り込み"
   ]
  },
  {
   "cell_type": "code",
   "execution_count": 23,
   "id": "b461fbe2-9e21-4e94-a611-4c1e06f507ee",
   "metadata": {},
   "outputs": [],
   "source": [
    "reflist = read_file(\"./reflection_list.ref\")"
   ]
  },
  {
   "cell_type": "code",
   "execution_count": 24,
   "id": "e3221e0b-130c-4472-bccd-a81ff8c12ad7",
   "metadata": {},
   "outputs": [],
   "source": [
    "peaks_dict = {}\n",
    "for i in range(1,len(reflist)):\n",
    "    b = reflist[i].split()\n",
    "    hklmno = np.array([int(b[0]),int(b[1]),int(b[2]),int(b[3]),int(b[4])])\n",
    "    multiplicity = int(b[5])\n",
    "    g_par = float(b[6])\n",
    "    g_perp = float(b[7])\n",
    "    peaks_dict[i] = [hklmno,multiplicity,g_par,g_perp]\n"
   ]
  },
  {
   "cell_type": "markdown",
   "id": "0b60d2c5-096f-4b83-a4d5-731c4f2144ea",
   "metadata": {
    "id": "0b60d2c5-096f-4b83-a4d5-731c4f2144ea"
   },
   "source": [
    "#### 構造因子の計算"
   ]
  },
  {
   "cell_type": "code",
   "execution_count": 25,
   "id": "cb3a7c6d-5a06-4341-99bf-32d993c42a36",
   "metadata": {
    "id": "cb3a7c6d-5a06-4341-99bf-32d993c42a36"
   },
   "outputs": [],
   "source": [
    "import tqdm\n",
    "\n",
    "def structure_factor(peaks_dict,a,c,wvl,myModel,elm_A,elm_B,flag,n1,n2):\n",
    "    theta_list = []\n",
    "    intensity_dict = {}\n",
    "    for nref in peaks_dict:\n",
    "        hklmno, multiplicity,g_par,g_perp = peaks_dict[nref]\n",
    "        theta=reflection_angle(wvl,hklmno,a,c) # in rad.\n",
    "        q_par_len=2*math.sin(theta)/wvl # in Ang*{-1}\n",
    "        if theta>0. and theta<PI/2.0:\n",
    "            position,shape,obj,site_symmetry = myModel\n",
    "            xaxis = 2*theta/PI*180 # tth in degree\n",
    "            xaxis = round(xaxis,3)\n",
    "            pos_FT = calc_FT(hklmno,position)\n",
    "            od_FT = calc_od_FT(shape,obj,hklmno,position,site_symmetry,flag=0,ad=1.0,scl=1.0,eps=1E-3)\n",
    "                        \n",
    "            asf1 = calc_asf(elm_A, xaxis)\n",
    "            asf2 = calc_asf(elm_B, xaxis)\n",
    "\n",
    "            q_per_len=prjctn_recipro_perp_length(hklmno)\n",
    "            TF = temfact(B_par,B_perp,q_par_len,q_per_len)\n",
    "            \n",
    "            LP = calc_LP(xaxis)\n",
    "\n",
    "\n",
    "            sfacs1 = pos_FT*od_FT*(n1/n1+n2)*asf1*TF\n",
    "            sfacs2 = pos_FT*od_FT*(n2/n1+n2)*asf2*TF\n",
    "            sfacs = sfacs1+sfacs2\n",
    "\n",
    "            intensity = LP*multiplicity*(sfacs.real**2 + sfacs.imag**2)\n",
    "\n",
    "            try:\n",
    "                intensity_dict[xaxis][0] += intensity.real\n",
    "            except:\n",
    "                intensity_dict[xaxis] = [intensity.real, hklmno]\n",
    "        else:\n",
    "            pass\n",
    "    return intensity_dict"
   ]
  },
  {
   "cell_type": "code",
   "execution_count": 26,
   "id": "5426f340-7224-4ffd-b5f6-f41a1eb62570",
   "metadata": {},
   "outputs": [],
   "source": [
    "import generator as gm"
   ]
  },
  {
   "cell_type": "code",
   "execution_count": 27,
   "id": "839cdaa9-a56b-4103-801e-972725f7bbd3",
   "metadata": {
    "id": "839cdaa9-a56b-4103-801e-972725f7bbd3"
   },
   "outputs": [],
   "source": [
    "hmax=5\n",
    "lmax=4\n",
    "\n",
    "wvl_dic={} #X線の波長\n",
    "wvl_dic['Cu_Ka'] = 1.54059 # in Ang.\n",
    "wvl_dic['Mo_Ka'] = 0.71069 # in Ang.\n",
    "wvl = wvl_dic['Cu_Ka']\n",
    "\n",
    "qemax = 2/wvl # in Ang.^{-1}\n",
    "qimax = 0.5\n",
    "\n",
    "flag = 'unique'\n",
    "\n",
    "__,__,__,symop_inv = gm.mattrix_dodeca_sym()\n",
    "\n",
    "#五次元構造の情報\n",
    "#五次元格子の各頂点に占有領域Aがある\n",
    "position = np.array([0,0,0,0,0]) #占有領域od_Bの中心位置\n",
    "position2 = np.dot(symop_inv,position)\n",
    "\n",
    "#占有領域Aの定義\n",
    "shape = 'triangle'\n",
    "# obj_A = od_A\n",
    "# obj_B = od_B\n",
    "obj = od_B\n",
    "site_symmetry = [-1]\n",
    "myModel = [position,shape,obj,site_symmetry]"
   ]
  },
  {
   "cell_type": "code",
   "execution_count": 28,
   "id": "8f677807-3355-4608-bd95-d4b81e2c9dde",
   "metadata": {},
   "outputs": [],
   "source": [
    "tth_min=0\n",
    "tth_max=60\n",
    "tth_step=0.01\n",
    "data_num=1"
   ]
  },
  {
   "cell_type": "code",
   "execution_count": 29,
   "id": "de2e1e6f-35a0-4576-9cbd-efab0509bbd3",
   "metadata": {},
   "outputs": [],
   "source": [
    "import random"
   ]
  },
  {
   "cell_type": "code",
   "execution_count": 30,
   "id": "d369a3d1-8fb3-4c50-ba50-4d4f727e48eb",
   "metadata": {},
   "outputs": [
    {
     "name": "stderr",
     "output_type": "stream",
     "text": [
      "training data:   0%|                                                                      | 0/1 [00:00<?, ?it/s]/tmp/ipykernel_2658/2953877981.py:20: DeprecationWarning: Arrays of 2-dimensional vectors are deprecated. Use arrays of 3-dimensional vectors instead. (deprecated in NumPy 2.0)\n",
      "  vol = abs(np.cross(e1i,e2i))/2.0*scl**2\n",
      "training data: 100%|██████████████████████████████████████████████████████████████| 1/1 [00:00<00:00,  1.07it/s]"
     ]
    },
    {
     "name": "stdout",
     "output_type": "stream",
     "text": [
      "1784\n",
      "5\n",
      "6000\n"
     ]
    },
    {
     "name": "stderr",
     "output_type": "stream",
     "text": [
      "\n"
     ]
    }
   ],
   "source": [
    "data_list = []\n",
    "hkl_list = []\n",
    "\n",
    "list1 = list(at.aff_parameters.keys())\n",
    "\n",
    "rng = np.random.default_rng()\n",
    "for __ in tqdm.tqdm(range(data_num), desc='training data'):\n",
    "    a=7.886\n",
    "    c=10.4026\n",
    "    elm_A = 'Ta'\n",
    "    list1.remove(str(elm_A))\n",
    "    elm_B = 'Te'\n",
    "    list1.append(elm_A)\n",
    "    hwhm = 0.05\n",
    "    n1 = 1.6\n",
    "    n2 = 1\n",
    "    inten_dict = structure_factor(peaks_dict,a,c,wvl,myModel,elm_A,elm_B,flag,n1,n2)\n",
    "    len_pattern = int((tth_max-tth_min)/tth_step)\n",
    "    vector=np.array([0.0]*len_pattern)\n",
    "    tths = np.arange(tth_min, tth_max, tth_step)\n",
    "    for tth in inten_dict.keys():\n",
    "        hkl = inten_dict[tth][1]\n",
    "        hkl_list.append(hkl)\n",
    "        vector += Lorenz([inten_dict[tth][0], hwhm, tth], tths)\n",
    "    vector = vector/np.max(vector)\n",
    "    data_list.append(vector)\n",
    "    \n",
    "# np.array(data_list)\n",
    "# np.save('data/test_dodeca.npy', data_list)\n",
    "# print(hkl_list)\n",
    "print(len(inten_dict))\n",
    "\n",
    "print(len(hkl_list[0]))\n",
    "print(len(data_list[0]))"
   ]
  },
  {
   "cell_type": "code",
   "execution_count": 31,
   "id": "c10a6600-e351-47ce-bba8-98ab56d7e128",
   "metadata": {},
   "outputs": [
    {
     "name": "stdout",
     "output_type": "stream",
     "text": [
      "[3.87389840e-05 3.88244937e-05 3.89102992e-05 ... 4.31735648e-03\n",
      " 4.12589520e-03 3.96689815e-03]\n",
      "6000\n",
      "[3.87389840e-05 3.88244937e-05 3.89102992e-05 ... 4.31735648e-03\n",
      " 4.12589520e-03 3.96689815e-03]\n"
     ]
    }
   ],
   "source": [
    "for tth in inten_dict:\n",
    "    # key = int((round(tth,2)-10)*100)\n",
    "    # x = tth-3\n",
    "    # y = vector[key]\n",
    "    y = inten_dict[tth][0]\n",
    "    # print(inten_dict[tth][1])\n",
    "\n",
    "# print(inten_dict)\n",
    "print(data_list[0])\n",
    "print(len(data_list[0]))\n",
    "print(vector)\n",
    "# print(len(vector))\n",
    "\n",
    "# for vector in enumarate(vector):\n",
    "#     print(vector)"
   ]
  },
  {
   "cell_type": "markdown",
   "id": "5b5e48bb-383a-40f8-be89-2db7a8857710",
   "metadata": {},
   "source": [
    "#### プロット"
   ]
  },
  {
   "cell_type": "code",
   "execution_count": 32,
   "id": "010f1f4c-4a54-4a10-a2c4-bfde440a994d",
   "metadata": {},
   "outputs": [],
   "source": [
    "import numpy as np\n",
    "import matplotlib.pyplot as plt\n",
    "from scipy.signal import find_peaks\n",
    "# from pymatgen.core import Structure\n",
    "# from pymatgen.analysis.diffraction.xrd import XRDCalculator\n"
   ]
  },
  {
   "cell_type": "code",
   "execution_count": 33,
   "id": "a664117f-78f7-49e6-b430-6cccf1718b22",
   "metadata": {},
   "outputs": [
    {
     "name": "stdout",
     "output_type": "stream",
     "text": [
      "1784\n",
      "1784\n"
     ]
    },
    {
     "data": {
      "image/png": "[encoded data removed]",
      "text/plain": [
       "<Figure size 640x480 with 1 Axes>"
      ]
     },
     "metadata": {},
     "output_type": "display_data"
    }
   ],
   "source": [
    "import numpy as np\n",
    "import matplotlib.pyplot as plt\n",
    "from scipy.signal import find_peaks\n",
    "\n",
    "fig, ax = plt.subplots()\n",
    "\n",
    "# PXRD 図をプロット\n",
    "tth_list = []\n",
    "inten_list = []\n",
    "hkl_list = []\n",
    "for tth in inten_dict:\n",
    "    tth_list.append(tth)\n",
    "    inten_list.append(inten_dict[tth][0])\n",
    "    hkl_list.append(inten_dict[tth][1])\n",
    "# print(tth_list)\n",
    "print(len(inten_list))\n",
    "print(len(hkl_list))\n",
    "\n",
    "plt.scatter(tth_list, inten_list)\n",
    "\n",
    "plt.xlim(tth_min, tth_max)\n",
    "plt.xlabel(\"2Θ [deg.]\")\n",
    "plt.ylabel(\"Intensity [a.u.]\")\n",
    "plt.rcParams[\"xtick.direction\"] = \"in\"\n",
    "plt.rcParams[\"ytick.direction\"] = \"in\"\n",
    "\n",
    "\n",
    "\n",
    "plt.show()"
   ]
  },
  {
   "cell_type": "code",
   "execution_count": 46,
   "id": "b89b48bb-451c-4c7a-83da-965b80b548b6",
   "metadata": {},
   "outputs": [
    {
     "name": "stdout",
     "output_type": "stream",
     "text": [
      "[0 0 0 0 2]\n",
      "1784\n",
      "[135, 136, 993]\n",
      "17.033\n",
      "[0 0 0 0 2]\n",
      "[ 135  575  993 1422]\n"
     ]
    },
    {
     "data": {
      "image/png": "[encoded data removed]",
      "text/plain": [
       "<Figure size 640x480 with 1 Axes>"
      ]
     },
     "metadata": {},
     "output_type": "display_data"
    }
   ],
   "source": [
    "import numpy as np\n",
    "import matplotlib.pyplot as plt\n",
    "from scipy.signal import find_peaks\n",
    "\n",
    "fig, ax = plt.subplots()\n",
    "\n",
    "# PXRD 図をプロット\n",
    "tth_list = []\n",
    "inten_list = []\n",
    "hkl_list = []\n",
    "for tth in inten_dict:\n",
    "    tth_list.append(tth)\n",
    "    inten_list.append(inten_dict[tth][0])\n",
    "    hkl_list.append(inten_dict[tth][1])\n",
    "\n",
    "# print(tth_list)\n",
    "print(hkl_list[136])\n",
    "print(len(hkl_list))\n",
    "\n",
    "indices = [i for i, value in enumerate(inten_list) if value >= 2500000]\n",
    "\n",
    "print(indices)\n",
    "print(tth_list[136])\n",
    "print(hkl_list[136])\n",
    "\n",
    "# 配列に変換\n",
    "tth_array = np.array(tth_list)\n",
    "inten_array = np.array(inten_list)\n",
    "hkl_array = np.array(hkl_list)\n",
    "\n",
    "# 強いピークを検出\n",
    "# peaks, properties = find_peaks(inten_array, height=np.max(inten_array) * 0.05, prominence=0.001, width=1)  # 強度が最大値の30%以上\n",
    "peaks, properties = find_peaks(inten_array, height=1000000)  # 強度が最大値の30%以上\n",
    "\n",
    "\n",
    "# peaks, properties = find_peaks(\n",
    "#     inten_array, \n",
    "#     # height=np.max(inten_array) * 0.01,  # 最大値の10%以上\n",
    "#     prominence=0.00000001,  # 周囲との差が十分にあるピークを検出）\n",
    "#     threshold=0.000000001,  # 隣接点との差が十分なピークのみ\n",
    "#     width=0.00000000001,  # ノイズを排除\n",
    "#     distance=1\n",
    "# )\n",
    "print(peaks)\n",
    "\n",
    "# PXRD データを散布図で表示\n",
    "plt.scatter(tth_list, inten_list, color='black', label=\"PXRD Data\")\n",
    "\n",
    "# ピークに hkl をラベル付け\n",
    "for peak in peaks:\n",
    "    tth = tth_array[peak]  # 2θ のピーク位置\n",
    "    y = inten_array[peak]  # ピークの強度\n",
    "    hkl = str(hkl_array[peak])  # hkl インデックス\n",
    "\n",
    "    # plt.text(tth, y + 0.05 * np.max(inten_array), hkl, rotation=90, fontsize=10, color=\"red\")  # ラベル表示\n",
    "    plt.text(tth, y + 0.05 * np.max(inten_array) + np.random.uniform(-0.02, 0.02), hkl, rotation=90, fontsize=10, color=\"red\")\n",
    "\n",
    "\n",
    "\n",
    "# plt.xlim(min(tth_list), max(tth_list))\n",
    "plt.xlim(tth_min, tth_max)\n",
    "plt.xlabel(\"2Θ [deg.]\")\n",
    "plt.ylabel(\"Intensity [a.u.]\")\n",
    "plt.legend()\n",
    "plt.rcParams[\"xtick.direction\"] = \"in\"\n",
    "plt.rcParams[\"ytick.direction\"] = \"in\"\n",
    "\n",
    "plt.show()"
   ]
  },
  {
   "cell_type": "code",
   "execution_count": 36,
   "id": "7c7ae91f-8e10-4b8f-8517-f658edc86a3b",
   "metadata": {},
   "outputs": [
    {
     "ename": "ValueError",
     "evalue": "`x` must be a 1-D array",
     "output_type": "error",
     "traceback": [
      "\u001b[0;31m---------------------------------------------------------------------------\u001b[0m",
      "\u001b[0;31mValueError\u001b[0m                                Traceback (most recent call last)",
      "Cell \u001b[0;32mIn[36], line 16\u001b[0m\n\u001b[1;32m     14\u001b[0m \u001b[38;5;66;03m# 強いピークを選択\u001b[39;00m\n\u001b[1;32m     15\u001b[0m intensities \u001b[38;5;241m=\u001b[39m data_list  \u001b[38;5;66;03m# 1つ目のデータセットを基準にする\u001b[39;00m\n\u001b[0;32m---> 16\u001b[0m peaks, properties \u001b[38;5;241m=\u001b[39m \u001b[43mfind_peaks\u001b[49m\u001b[43m(\u001b[49m\u001b[43mintensities\u001b[49m\u001b[43m,\u001b[49m\u001b[43m \u001b[49m\u001b[43mheight\u001b[49m\u001b[38;5;241;43m=\u001b[39;49m\u001b[43mnp\u001b[49m\u001b[38;5;241;43m.\u001b[39;49m\u001b[43mmax\u001b[49m\u001b[43m(\u001b[49m\u001b[43mintensities\u001b[49m\u001b[43m)\u001b[49m\u001b[43m \u001b[49m\u001b[38;5;241;43m*\u001b[39;49m\u001b[43m \u001b[49m\u001b[38;5;241;43m0.3\u001b[39;49m\u001b[43m)\u001b[49m  \u001b[38;5;66;03m# 30%以上の強度のピーク\u001b[39;00m\n\u001b[1;32m     18\u001b[0m \u001b[38;5;66;03m# ピークに hkl をラベル付け\u001b[39;00m\n\u001b[1;32m     19\u001b[0m \u001b[38;5;28;01mfor\u001b[39;00m peak \u001b[38;5;129;01min\u001b[39;00m peaks:\n",
      "File \u001b[0;32m~/.local/lib/python3.10/site-packages/scipy/signal/_peak_finding.py:939\u001b[0m, in \u001b[0;36mfind_peaks\u001b[0;34m(x, height, threshold, distance, prominence, width, wlen, rel_height, plateau_size)\u001b[0m\n\u001b[1;32m    732\u001b[0m \u001b[38;5;250m\u001b[39m\u001b[38;5;124;03m\"\"\"\u001b[39;00m\n\u001b[1;32m    733\u001b[0m \u001b[38;5;124;03mFind peaks inside a signal based on peak properties.\u001b[39;00m\n\u001b[1;32m    734\u001b[0m \n\u001b[0;32m   (...)\u001b[0m\n\u001b[1;32m    936\u001b[0m \u001b[38;5;124;03m>>> plt.show()\u001b[39;00m\n\u001b[1;32m    937\u001b[0m \u001b[38;5;124;03m\"\"\"\u001b[39;00m\n\u001b[1;32m    938\u001b[0m \u001b[38;5;66;03m# _argmaxima1d expects array of dtype 'float64'\u001b[39;00m\n\u001b[0;32m--> 939\u001b[0m x \u001b[38;5;241m=\u001b[39m \u001b[43m_arg_x_as_expected\u001b[49m\u001b[43m(\u001b[49m\u001b[43mx\u001b[49m\u001b[43m)\u001b[49m\n\u001b[1;32m    940\u001b[0m \u001b[38;5;28;01mif\u001b[39;00m distance \u001b[38;5;129;01mis\u001b[39;00m \u001b[38;5;129;01mnot\u001b[39;00m \u001b[38;5;28;01mNone\u001b[39;00m \u001b[38;5;129;01mand\u001b[39;00m distance \u001b[38;5;241m<\u001b[39m \u001b[38;5;241m1\u001b[39m:\n\u001b[1;32m    941\u001b[0m     \u001b[38;5;28;01mraise\u001b[39;00m \u001b[38;5;167;01mValueError\u001b[39;00m(\u001b[38;5;124m'\u001b[39m\u001b[38;5;124m`distance` must be greater or equal to 1\u001b[39m\u001b[38;5;124m'\u001b[39m)\n",
      "File \u001b[0;32m~/.local/lib/python3.10/site-packages/scipy/signal/_peak_finding.py:268\u001b[0m, in \u001b[0;36m_arg_x_as_expected\u001b[0;34m(value)\u001b[0m\n\u001b[1;32m    266\u001b[0m value \u001b[38;5;241m=\u001b[39m np\u001b[38;5;241m.\u001b[39masarray(value, order\u001b[38;5;241m=\u001b[39m\u001b[38;5;124m'\u001b[39m\u001b[38;5;124mC\u001b[39m\u001b[38;5;124m'\u001b[39m, dtype\u001b[38;5;241m=\u001b[39mnp\u001b[38;5;241m.\u001b[39mfloat64)\n\u001b[1;32m    267\u001b[0m \u001b[38;5;28;01mif\u001b[39;00m value\u001b[38;5;241m.\u001b[39mndim \u001b[38;5;241m!=\u001b[39m \u001b[38;5;241m1\u001b[39m:\n\u001b[0;32m--> 268\u001b[0m     \u001b[38;5;28;01mraise\u001b[39;00m \u001b[38;5;167;01mValueError\u001b[39;00m(\u001b[38;5;124m'\u001b[39m\u001b[38;5;124m`x` must be a 1-D array\u001b[39m\u001b[38;5;124m'\u001b[39m)\n\u001b[1;32m    269\u001b[0m \u001b[38;5;28;01mreturn\u001b[39;00m value\n",
      "\u001b[0;31mValueError\u001b[0m: `x` must be a 1-D array"
     ]
    },
    {
     "data": {
      "image/png": "[encoded data removed]",
      "text/plain": [
       "<Figure size 640x480 with 1 Axes>"
      ]
     },
     "metadata": {},
     "output_type": "display_data"
    }
   ],
   "source": [
    "#plot scatter\n",
    "from scipy.signal import find_peaks\n",
    "import matplotlib.pyplot as plt\n",
    "fig, ax = plt.subplots()\n",
    "for i in range(data_num):\n",
    "    plt.plot(tths,data_list[i])\n",
    "plt.xlim(tth_min,tth_max)\n",
    "plt.xlabel('2Θ [deg.]')\n",
    "plt.ylabel('Intensity [a.u.]')\n",
    "#plt.legend()\n",
    "plt.rcParams['xtick.direction'] = 'in'\n",
    "plt.rcParams['ytick.direction'] = 'in'\n",
    "\n",
    "# 強いピークを選択\n",
    "intensities = data_list  # 1つ目のデータセットを基準にする\n",
    "peaks, properties = find_peaks(intensities, height=np.max(intensities) * 0.3)  # 30%以上の強度のピーク\n",
    "\n",
    "# ピークに hkl をラベル付け\n",
    "for peak in peaks:\n",
    "    tth = tths[peak]  # 2θ のピーク位置\n",
    "    x = tth - 3  # ラベル位置調整\n",
    "    y = intensities[peak]  # ピークの強度\n",
    "\n",
    "    # hkl インデックスを取得\n",
    "    if tth in inten_dict:\n",
    "        hkl = str(abs(inten_dict[tth][1]))  # hkl の整数部分を取得\n",
    "        plt.text(x, y + 0.05 * np.max(intensities), hkl, rotation=90, fontsize=10, color=\"red\")  # ラベル表示\n",
    "\n",
    "\n",
    "# for tth in inten_dict:\n",
    "#     key = int((round(tth,2)-10)*100)\n",
    "#     x = tth-3\n",
    "#     y = vector\n",
    "#     # y = inten_dict[tth][0]\n",
    "#     # print(data_list[0])\n",
    "#     # print(len(data_list[0]))\n",
    "#     # print(inten_dict[tth][0])\n",
    "#     # print(inten_dict[tth][1])\n",
    "#     if y>=1.0:\n",
    "#         y = vector-0.1\n",
    "#     elif y<+0.1:\n",
    "#         y = vector+0.02\n",
    "#     hkl = str(abs(inten_dict[tth][1]))\n",
    "#     # print(inten_dict[tth][1])\n",
    "#     plt.text(x, y, hkl, rotation=90)\n",
    "#     # print((x, y, hkl))\n",
    "\n",
    "\n",
    "plt.show"
   ]
  },
  {
   "cell_type": "code",
   "execution_count": 37,
   "id": "8c5e0297-6e3b-4c07-b8db-ac354786750e",
   "metadata": {},
   "outputs": [
    {
     "ename": "IndexError",
     "evalue": "only integers, slices (`:`), ellipsis (`...`), numpy.newaxis (`None`) and integer or boolean arrays are valid indices",
     "output_type": "error",
     "traceback": [
      "\u001b[0;31m---------------------------------------------------------------------------\u001b[0m",
      "\u001b[0;31mIndexError\u001b[0m                                Traceback (most recent call last)",
      "Cell \u001b[0;32mIn[37], line 24\u001b[0m\n\u001b[1;32m     22\u001b[0m     hkl \u001b[38;5;241m=\u001b[39m inten_dict[tth][\u001b[38;5;241m1\u001b[39m]\n\u001b[1;32m     23\u001b[0m     hkl_list\u001b[38;5;241m.\u001b[39mappend(hkl)\n\u001b[0;32m---> 24\u001b[0m     hkl_text \u001b[38;5;241m=\u001b[39m \u001b[38;5;124mf\u001b[39m\u001b[38;5;124m\"\u001b[39m\u001b[38;5;132;01m{\u001b[39;00m\u001b[43mhkl_list\u001b[49m\u001b[43m[\u001b[49m\u001b[38;5;241;43m0\u001b[39;49m\u001b[43m]\u001b[49m\u001b[43m[\u001b[49m\u001b[38;5;124;43m'\u001b[39;49m\u001b[38;5;124;43mhkl\u001b[39;49m\u001b[38;5;124;43m'\u001b[39;49m\u001b[43m]\u001b[49m\u001b[38;5;132;01m}\u001b[39;00m\u001b[38;5;124m\"\u001b[39m  \u001b[38;5;66;03m# 最も強いピークの (hkl) を取得\u001b[39;00m\n\u001b[1;32m     25\u001b[0m     plt\u001b[38;5;241m.\u001b[39mtext(tths[peak], intensities[peak] \u001b[38;5;241m+\u001b[39m \u001b[38;5;241m5\u001b[39m, hkl_text, ha\u001b[38;5;241m=\u001b[39m\u001b[38;5;124m'\u001b[39m\u001b[38;5;124mcenter\u001b[39m\u001b[38;5;124m'\u001b[39m, fontsize\u001b[38;5;241m=\u001b[39m\u001b[38;5;241m10\u001b[39m, color\u001b[38;5;241m=\u001b[39m\u001b[38;5;124m'\u001b[39m\u001b[38;5;124mblue\u001b[39m\u001b[38;5;124m'\u001b[39m)\n\u001b[1;32m     26\u001b[0m \u001b[38;5;28mprint\u001b[39m(hkl_list)\n",
      "\u001b[0;31mIndexError\u001b[0m: only integers, slices (`:`), ellipsis (`...`), numpy.newaxis (`None`) and integer or boolean arrays are valid indices"
     ]
    },
    {
     "data": {
      "image/png": "[encoded data removed]",
      "text/plain": [
       "<Figure size 800x500 with 1 Axes>"
      ]
     },
     "metadata": {},
     "output_type": "display_data"
    }
   ],
   "source": [
    "# PXRD データ\n",
    "# tths = np.array(pattern.x)  # 2θ 角度\n",
    "# intensities = np.array(pattern.y)  # 強度\n",
    "ths = tths # 2θ 角度\n",
    "intensities = data_list[0]  # 強度\n",
    "\n",
    "# ピークの検出（高さが大きいものを対象）\n",
    "peaks, _ = find_peaks(intensities, height=np.max(intensities) * 0.3)  # 30%以上の強度のピーク\n",
    "\n",
    "# ========== PXRD 図の描画 ==========\n",
    "fig, ax = plt.subplots(figsize=(8, 5))\n",
    "plt.plot(tths, intensities, color=\"black\", label=\"PXRD pattern\")\n",
    "plt.xlim(min(tths), max(tths))\n",
    "plt.xlabel(\"2Θ [deg.]\")\n",
    "plt.ylabel(\"Intensity [a.u.]\")\n",
    "\n",
    "# hkl インデックスをピークに表示\n",
    "# for peak in peaks:\n",
    "#     hkl_list = pattern.hkls[peak]  # そのピークに対応する (hkl)\n",
    "hkl_list = []\n",
    "for tth in inten_dict:\n",
    "    hkl = inten_dict[tth][1]\n",
    "    hkl_list.append(hkl)\n",
    "    hkl_text = f\"{hkl_list[0]['hkl']}\"  # 最も強いピークの (hkl) を取得\n",
    "    plt.text(tths[peak], intensities[peak] + 5, hkl_text, ha='center', fontsize=10, color='blue')\n",
    "print(hkl_list)\n",
    "\n",
    "# 軸の設定\n",
    "plt.rcParams[\"xtick.direction\"] = \"in\"\n",
    "plt.rcParams[\"ytick.direction\"] = \"in\"\n",
    "plt.legend()\n",
    "plt.show()"
   ]
  },
  {
   "cell_type": "code",
   "execution_count": null,
   "id": "af3a7d13-2c2a-4a21-a46f-9078749be7cf",
   "metadata": {},
   "outputs": [],
   "source": [
    "#plot scatter\n",
    "import matplotlib.pyplot as plt\n",
    "fig, ax = plt.subplots()\n",
    "for i in range(data_num):\n",
    "    plt.plot(tths,data_list[i])\n",
    "plt.xlim(tth_min,tth_max)\n",
    "plt.xlabel('2Θ [deg.]')\n",
    "plt.ylabel('Intensity [a.u.]')\n",
    "#plt.legend()\n",
    "plt.rcParams['xtick.direction'] = 'in'\n",
    "plt.rcParams['ytick.direction'] = 'in'\n",
    "plt.show\n",
    "\n",
    "for tth in inten_dict:\n",
    "  key = int((round(tth,2)-10)*100)\n",
    "  x = tth-3\n",
    "  # y = vector[key]\n",
    "  y = data_list[0]\n",
    "  if y>=1.0:\n",
    "    y = vector[key]-0.1\n",
    "  elif y<+0.1:\n",
    "    y = vector[key]+0.02\n",
    "  hkl = str(abs(inten_dict[tth][1]))\n",
    "  plt.text(x, y, hkl, rotation=90)\n",
    "  # print((x, y, hkl))\n",
    "\n",
    "\n",
    "plt.show"
   ]
  },
  {
   "cell_type": "code",
   "execution_count": null,
   "id": "eb0fcd30-b311-4548-9326-b8a83e7b16ac",
   "metadata": {},
   "outputs": [],
   "source": []
  }
 ],
 "metadata": {
  "colab": {
   "provenance": []
  },
  "kernelspec": {
   "display_name": "Python 3 (ipykernel)",
   "language": "python",
   "name": "python3"
  },
  "language_info": {
   "codemirror_mode": {
    "name": "ipython",
    "version": 3
   },
   "file_extension": ".py",
   "mimetype": "text/x-python",
   "name": "python",
   "nbconvert_exporter": "python",
   "pygments_lexer": "ipython3",
   "version": "3.10.12"
  }
 },
 "nbformat": 4,
 "nbformat_minor": 5
}

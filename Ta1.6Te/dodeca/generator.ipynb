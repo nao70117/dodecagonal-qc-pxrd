{
 "cells": [
  {
   "cell_type": "code",
   "execution_count": 1,
   "id": "61ac28bd-808d-4df8-9115-f8c6ddbff0da",
   "metadata": {
    "id": "61ac28bd-808d-4df8-9115-f8c6ddbff0da"
   },
   "outputs": [],
   "source": [
    "import sys\n",
    "import numpy as np\n",
    "import tqdm\n",
    "\n",
    "PI = np.pi\n",
    "SIN = np.sqrt(3)/2.0\n",
    "CONST1 = 2/np.sqrt(6)\n",
    "CONST2 = 1/np.sqrt(2)"
   ]
  },
  {
   "cell_type": "markdown",
   "id": "ea2ac4cb-ab32-436f-b78f-b3872c2a9f6e",
   "metadata": {
    "id": "ea2ac4cb-ab32-436f-b78f-b3872c2a9f6e"
   },
   "source": [
    "#### 逆格子空間での射影"
   ]
  },
  {
   "cell_type": "code",
   "execution_count": 2,
   "id": "afcd1e11-d2b6-4697-bfb2-0afe21b56b85",
   "metadata": {
    "id": "afcd1e11-d2b6-4697-bfb2-0afe21b56b85"
   },
   "outputs": [],
   "source": [
    "def prjctn_recipro_par(r,a=1.0,c=1.0):\n",
    "    \"\"\"\n",
    "    parallel component of 5D reciprocal lattice vector\n",
    "    input\n",
    "    list:r, 5D reflection index\n",
    "    float:a, lattice constant\n",
    "    float:c, lattice constant\n",
    "    \"\"\"\n",
    "    x = (1*r[0]+SIN*r[1]+0.5*r[2]       )/a*CONST2\n",
    "    y = (       0.5*r[1]+SIN*r[2]+1*r[3])/a*CONST2\n",
    "    z = r[4]/c\n",
    "    return [x,y,z]\n",
    "\n",
    "def prjctn_recipro_perp(r,a=1.0):\n",
    "    \"\"\"\n",
    "    perpendicular component of 5D reciprocal lattice vector\n",
    "    input\n",
    "    list:r, 4D reflection index\n",
    "    float:a, lattice constant\n",
    "    \"\"\"\n",
    "    x=(1*r[0]-SIN*r[1]+0.5*r[2]     )/a*CONST2\n",
    "    y=(       0.5*r[1]-SIN*r[2]+r[3])/a*CONST2\n",
    "    return [x,y]\n"
   ]
  },
  {
   "cell_type": "code",
   "execution_count": 3,
   "id": "be83e2c4-3bd2-4fd6-b829-e1cba5d3a293",
   "metadata": {
    "id": "be83e2c4-3bd2-4fd6-b829-e1cba5d3a293"
   },
   "outputs": [],
   "source": [
    "def prjctn_recipro_par_length(r,a=1.0,c=1.0):\n",
    "    [x,y,z]=prjctn_recipro_par(r,a,c)\n",
    "    return np.sqrt(x**2+y**2+z**2)\n",
    "\n",
    "def prjctn_recipro_perp_length(r,a=1.0):\n",
    "    [x,y]=prjctn_recipro_perp(r,a)\n",
    "    return np.sqrt(x**2+y**2)\n"
   ]
  },
  {
   "cell_type": "markdown",
   "id": "b32997db-e089-4e6d-88b9-a8e18b42c94a",
   "metadata": {
    "id": "b32997db-e089-4e6d-88b9-a8e18b42c94a"
   },
   "source": [
    "#### 実空間での射影"
   ]
  },
  {
   "cell_type": "code",
   "execution_count": 4,
   "id": "45aee9b0-70b0-436f-8281-edcd59e9746f",
   "metadata": {
    "id": "45aee9b0-70b0-436f-8281-edcd59e9746f"
   },
   "outputs": [],
   "source": [
    "def prjctn_direct_par(r,a=1.0,c=1.0):\n",
    "    \"\"\"\n",
    "    parallel component of 5D reciprocal lattice vector\n",
    "    input\n",
    "    list:r, 5D reflection index\n",
    "    float:a, lattice constant\n",
    "    float:c, lattice constant\n",
    "    \"\"\"\n",
    "    x = ( SIN*r[0]+r[1]     -0.5*r[3])*a*CONST1\n",
    "    y = (-0.5*r[0]     +r[2]+SIN*r[3])*a*CONST1\n",
    "    z = r[4]*c\n",
    "    return [x,y,z]\n",
    "\n",
    "def prjctn_direct_perp(r,a=1.0):\n",
    "    \"\"\"\n",
    "    perpendicular component of 5D reciprocal lattice vector\n",
    "    input\n",
    "    list:r, 5D reflection index\n",
    "    float:a, lattice constant\n",
    "    \"\"\"\n",
    "    x = (-SIN*r[0]+r[1]-0.5*r[3])*a*CONST1\n",
    "    y = (-0.5*r[0]+r[2]-SIN*r[3])*a*CONST1\n",
    "    return [x,y]\n"
   ]
  },
  {
   "cell_type": "code",
   "execution_count": 5,
   "id": "42b5bdf8-9954-4682-88e2-013bbfda9167",
   "metadata": {},
   "outputs": [],
   "source": [
    "def prjctn_direct_par_length(r,a=1.0,c=1.0):\n",
    "    [x,y,z]=prjctn_direct_par(r,a,c)\n",
    "    return np.sqrt(x**2+y**2+z**2)\n",
    "\n",
    "def prjctn_direct_perp_length(r,a=1.0):\n",
    "    [x,y]=prjctn_direct_perp(r,a)\n",
    "    return np.sqrt(x**2+y**2)\n"
   ]
  },
  {
   "cell_type": "markdown",
   "id": "fde412a6-49d5-4f7b-8875-fc0498d6ab76",
   "metadata": {
    "id": "fde412a6-49d5-4f7b-8875-fc0498d6ab76"
   },
   "source": [
    "#### フーリエ変換"
   ]
  },
  {
   "cell_type": "code",
   "execution_count": 6,
   "id": "eb462a12-5826-48a0-944e-567cb8c50b80",
   "metadata": {
    "id": "eb462a12-5826-48a0-944e-567cb8c50b80"
   },
   "outputs": [],
   "source": [
    "import math\n",
    "from scipy import integrate\n",
    "import cmath"
   ]
  },
  {
   "cell_type": "code",
   "execution_count": 7,
   "id": "65c546d2-471c-4051-b520-9b21dbcded90",
   "metadata": {
    "id": "65c546d2-471c-4051-b520-9b21dbcded90"
   },
   "outputs": [],
   "source": [
    "PI = np.pi\n",
    "TWOPI = 2.0*PI"
   ]
  },
  {
   "cell_type": "markdown",
   "id": "d32c71d6-6279-40c4-8487-db2c446bd1ed",
   "metadata": {
    "id": "d32c71d6-6279-40c4-8487-db2c446bd1ed"
   },
   "source": [
    "#### 指数発生"
   ]
  },
  {
   "cell_type": "code",
   "execution_count": 8,
   "id": "d951810e-a161-48af-8703-9ad5f1f76b9c",
   "metadata": {},
   "outputs": [],
   "source": [
    "PI=np.pi\n",
    "CONST3=np.cos(PI/12)\n",
    "CONST4=np.sin(PI/12)\n",
    "EPS=1E-6\n",
    "TAU = (1+np.sqrt(5))/2"
   ]
  },
  {
   "cell_type": "code",
   "execution_count": 9,
   "id": "7d9079e1-24f3-48b9-92c6-36a301830b77",
   "metadata": {},
   "outputs": [],
   "source": [
    "def asymmetric(h):\n",
    "    \"\"\"\n",
    "    # 非対称領域の内外判定\n",
    "    # dodecagonal lattice\n",
    "    \"\"\"\n",
    "    [x,y,z] = prjctn_recipro_par(h)\n",
    "    vec = np.array([x,y,0])\n",
    "    \n",
    "    tmp = np.array([1,0,0])\n",
    "    if np.cross(tmp,vec)[2] > -EPS:\n",
    "        tmp = np.array([CONST3,CONST4,0])\n",
    "        if np.cross(tmp,vec)[2] < EPS:\n",
    "            if z>=0.0:\n",
    "                return True\n",
    "            else:\n",
    "                return False\n",
    "        else:\n",
    "            return False\n",
    "    else:\n",
    "        return False"
   ]
  },
  {
   "cell_type": "code",
   "execution_count": 10,
   "id": "6b08aef2-1a8d-417a-b024-884b263ad12a",
   "metadata": {},
   "outputs": [],
   "source": [
    "def mattrix_dodeca_sym():\n",
    "    \"\"\"\n",
    "    dodecagonal symmetry operations\n",
    "    \"\"\"\n",
    "    #c12\n",
    "    m1=np.array([[ 0, 0, 0,-1, 0],\\\n",
    "                [ 1, 0, 0, 0, 0],\\\n",
    "                [ 0, 1, 0, 1, 0],\\\n",
    "                [ 0, 0, 1, 0, 0],\\\n",
    "                [ 0, 0, 0, 0, 1]])\n",
    "    # mirror\n",
    "    m2=np.array([[ 0, 0, 1, 0, 0],\\\n",
    "                [ 0, 1, 0, 0, 0],\\\n",
    "                [ 1, 0, 0, 0, 0],\\\n",
    "                [ 0, 1, 0,-1, 0],\\\n",
    "                [ 0, 0, 0, 0, 1]])\n",
    "    # mirror`\n",
    "    m3=np.array([[0, 0, 0, 1, 0],\\\n",
    "                [ 0, 0, 1, 0, 0],\\\n",
    "                [ 0, 1, 0, 0, 0],\\\n",
    "                [ 1, 0, 0, 0, 0],\\\n",
    "                [ 0, 0, 0, 0, 1]])\n",
    "    # inversion\n",
    "    m4=np.array([[-1, 0, 0, 0, 0],\\\n",
    "                [ 0,-1, 0, 0, 0],\\\n",
    "                [ 0, 0,-1, 0, 0],\\\n",
    "                [ 0, 0, 0,-1, 0],\\\n",
    "                [ 0, 0, 0, 0,-1]])\n",
    "    # -12\n",
    "    m5=m4@m1\n",
    "    return m1,m2,m3,m4,m5"
   ]
  },
  {
   "cell_type": "code",
   "execution_count": 11,
   "id": "12797abd-e804-4067-b781-6f706f1bc513",
   "metadata": {},
   "outputs": [],
   "source": [
    "def dodecasymop():\n",
    "    \"\"\"\n",
    "    decagonal symmetry operations\n",
    "    \"\"\"\n",
    "    m1,m2,m3,m4,m5 = mattrix_dodeca_sym()\n",
    "    \n",
    "    symop=[]\n",
    "    \"\"\"\n",
    "    for k in range(2):\n",
    "        for j in range(2):\n",
    "            for i in range(12):\n",
    "                s1=matrix_pow(m1,i) # c12\n",
    "                s2=matrix_pow(m3,j) # mirror, sigma\n",
    "                s3=matrix_pow(m4,k) # mirror, sigma`\n",
    "                tmp=np.dot(s2,s3)\n",
    "                tmp=np.dot(tmp,s1)\n",
    "                symop.append(tmp)\n",
    "    \"\"\"\n",
    "\n",
    "    for k in range(2):\n",
    "        for j in range(2):\n",
    "            for i in range(12):\n",
    "                s1=matrix_pow(m1,i) # c12\n",
    "                s2=matrix_pow(m3,j) # mirror, sigma\n",
    "                s3=matrix_pow(m4,k) # mirror, sigma`\n",
    "                tmp=np.dot(s2,s3)\n",
    "                tmp=np.dot(tmp,s1)\n",
    "                symop.append(tmp)\n",
    "    \n",
    "    # for j in range(2):\n",
    "    #     for i in range(12):\n",
    "    #         s1=matrix_pow(m5,i) # -12\n",
    "    #         s2=matrix_pow(m2,j) # mirror y\n",
    "    #         tmp=np.dot(s1,s2)\n",
    "    #         symop.append(tmp)\n",
    "    return symop"
   ]
  },
  {
   "cell_type": "code",
   "execution_count": 12,
   "id": "c27a9bcd-938b-4306-a41f-0fd61350cd39",
   "metadata": {},
   "outputs": [],
   "source": [
    "def equivalent_sym_op(h):\n",
    "    \"\"\"\n",
    "    hと等価な反射指数を作る対称操作インデックスを求める。\n",
    "    \"\"\"\n",
    "    a=dodecasymop()\n",
    "    lst=[]\n",
    "    for i1,b in enumerate(a):\n",
    "        h1=np.dot(b,h)\n",
    "        if i1==0:\n",
    "            lst.append(i1)\n",
    "        else:\n",
    "            flg=0\n",
    "            for i2 in lst:\n",
    "                h2=np.dot(a[i2],h)\n",
    "                if np.all(h1==h2):\n",
    "                    flg+=1\n",
    "                    break\n",
    "                else:\n",
    "                    pass\n",
    "            if flg==0:\n",
    "                lst.append(i1)\n",
    "    return lst"
   ]
  },
  {
   "cell_type": "code",
   "execution_count": 13,
   "id": "41293cff-2983-45e1-b4cd-da1ae1dc4dc6",
   "metadata": {},
   "outputs": [],
   "source": [
    "def matrix_pow(array_1, n):\n",
    "    mx = array_1.shape[0]\n",
    "    my = array_1.shape[1]\n",
    "    array_2 = np.identity(mx, dtype=int)\n",
    "    if mx == my:\n",
    "        if n == 0:\n",
    "            return np.identity(mx, dtype=int)\n",
    "        elif n<0:\n",
    "            return np.zeros((mx,mx), dtype=int)\n",
    "        else:\n",
    "            for i in range(n):\n",
    "                array_2 = np.dot(array_2,array_1)\n",
    "            return array_2\n",
    "    else:\n",
    "        print('ERROR: matrix has not regular shape')\n",
    "        return np.array([0])"
   ]
  },
  {
   "cell_type": "code",
   "execution_count": 14,
   "id": "eb2842dc-cfb2-4221-bab7-9f6c2e291d0b",
   "metadata": {
    "id": "eb2842dc-cfb2-4221-bab7-9f6c2e291d0b"
   },
   "outputs": [],
   "source": [
    "def gen_ref(hmax,lmax,a_max,c_max,qemax,qimax,flag):\n",
    "    def reflection_condition(n1,n2,n3,n4,n5):\n",
    "        \"\"\"\n",
    "        set your condition here.\n",
    "        \"\"\"\n",
    "        if n1==0 and n2==0 and n3==0 and n4==0 and n5==0:\n",
    "            return False\n",
    "        else:\n",
    "            return True\n",
    "        # if n5%2!=0 and n1==0 and n2==0 and n3==0 and n4==0:\n",
    "        #     return False\n",
    "        # elif n5%2!=0 and n1+n2+n3 == 2*n4:\n",
    "        #     return True\n",
    "        # else:\n",
    "        #     return True\n",
    "\n",
    "    ref_dict={}  # 5D indices\n",
    "    for h1 in tqdm.tqdm(range(-hmax, hmax+1), desc='generate ref'):\n",
    "        for h2 in range(-hmax, hmax+1):\n",
    "            for h3 in range(-hmax, hmax+1):\n",
    "                for h4 in range(-hmax, hmax+1):\n",
    "                    for h5 in range(-lmax, lmax+1):           \n",
    "                        if reflection_condition(h1,h2,h3,h4,h5):\n",
    "                            hkl=[h1,h2,h3,h4,h5]\n",
    "                            if flag=='unique':\n",
    "                                if asymmetric(hkl): # asymmetric unit\n",
    "                                    q_par = prjctn_recipro_par_length(hkl,a_max,c_max)\n",
    "                                    q_perp = prjctn_recipro_perp_length(hkl,a_max)\n",
    "                                    if q_par<qemax and q_perp<qimax:\n",
    "                                        indice_str='_'.join(map(str,map(int,hkl)))\n",
    "                                        ref_dict[indice_str]=[np.array(hkl),1,q_par,q_perp]\n",
    "                                    else:\n",
    "                                        pass\n",
    "                                else:\n",
    "                                    pass\n",
    "                            else:\n",
    "                                q_par = prjctn_recipro_par_length(hkl,a_max,c_max)\n",
    "                                q_perp = prjctn_recipro_perp_length(hkl,a_max)\n",
    "                                if q_par<qemax and q_perp<qimax:\n",
    "                                    indice_str='_'.join(map(str,map(int,hkl)))\n",
    "                                    ref_dict[indice_str]=[np.array(hkl),1,q_par,q_perp]\n",
    "                                else:\n",
    "                                    pass\n",
    "                        else:\n",
    "                            pass\n",
    "    for indice_str in tqdm.tqdm(ref_dict, desc='multiplicity'):\n",
    "        a=equivalent_sym_op(ref_dict[indice_str][0])\n",
    "        ref_dict[indice_str][1]=int(len(a))\n",
    "    return ref_dict"
   ]
  },
  {
   "cell_type": "code",
   "execution_count": 15,
   "id": "396c993d-2ea2-4afe-a8ce-86b947493887",
   "metadata": {},
   "outputs": [],
   "source": [
    "# a=equivalent_sym_op(np.array([1,2,3,4,5]))"
   ]
  },
  {
   "cell_type": "code",
   "execution_count": 16,
   "id": "27f74106-3bd4-40db-bd5c-44b088e85994",
   "metadata": {},
   "outputs": [],
   "source": [
    "# print(len(a))"
   ]
  },
  {
   "cell_type": "code",
   "execution_count": 17,
   "id": "839cdaa9-a56b-4103-801e-972725f7bbd3",
   "metadata": {
    "id": "839cdaa9-a56b-4103-801e-972725f7bbd3"
   },
   "outputs": [],
   "source": [
    "hmax=5\n",
    "lmax=4\n",
    "# a=7.886\n",
    "# c=10.403\n",
    "# a = 9.046\n",
    "# c = 10.397\n",
    "# a = 7\n",
    "# c = 12\n",
    "a_max=9\n",
    "c_max=12\n",
    "\n",
    "wvl_dic={} #X線の波長\n",
    "wvl_dic['Cu_Ka'] = 1.54059 # in Ang.\n",
    "wvl_dic['Mo_Ka'] = 0.71069 # in Ang.\n",
    "wvl = wvl_dic['Cu_Ka']\n",
    "element = 'Ta'\n",
    "\n",
    "qemax = 2/wvl # in Ang.^{-1}\n",
    "qimax = 0.5\n",
    "\n",
    "flag = 'unique'\n",
    "\n",
    "#五次元構造の情報\n",
    "#五次元格子の各頂点に占有領域Aがある\n",
    "position = np.array([0,0,0,0,0]) #占有領域od_Bの中心位置\n",
    "#占有領域Aの定義\n",
    "shape = 'triangle'\n",
    "\n",
    "site_symmetry = [-1]\n",
    "\n"
   ]
  },
  {
   "cell_type": "code",
   "execution_count": 18,
   "id": "0a29f46c-c7aa-416a-9b21-eb28c7829d42",
   "metadata": {},
   "outputs": [
    {
     "name": "stderr",
     "output_type": "stream",
     "text": [
      "generate ref: 100%|█████████████████████████████████████████████████████████████████████████| 11/11 [00:03<00:00,  3.28it/s]\n",
      "multiplicity: 100%|████████████████████████████████████████████████████████████████████| 1934/1934 [00:06<00:00, 288.93it/s]\n"
     ]
    }
   ],
   "source": [
    "peaks_dict = gen_ref(hmax,lmax,a_max,c_max,qemax,qimax,flag)"
   ]
  },
  {
   "cell_type": "code",
   "execution_count": 19,
   "id": "8c4e29d8-cb77-4bc2-9c11-7b0f045e6f4f",
   "metadata": {},
   "outputs": [],
   "source": [
    "def reflection_list(filename,hmax,lmax,qemax,qimax,a=1.0,c=1.0,flag='unique'):\n",
    "    \"\"\" \n",
    "    make a reflection list file.\n",
    "    this generates reflection indices list\n",
    "    :param string basename:\n",
    "    :param int hmax:\n",
    "    :param float qimax:\n",
    "    :param string flag: ['unique' or 'u' or 1] or 'all'\n",
    "    \"\"\"\n",
    "    ref_dict = peaks_dict\n",
    "    f = open('%s'%(filename),'w', encoding=\"utf-8\", errors=\"ignore\")\n",
    "    f.write('%d %4.2f %4.2f %4.2f %s\\n'%(hmax,lmax,qemax,qimax,flag))\n",
    "    for value in ref_dict.values():\n",
    "        h1,h2,h3,h4,h5 = value[0]\n",
    "        f.write('%d %d %d %d %d %d %8.6f %8.6f\\n'%(h1,h2,h3,h4,h5,value[1],value[2],value[3]))\n",
    "    f.close()\n",
    "    print('generation of reflection list: completed')\n",
    "    return 0"
   ]
  },
  {
   "cell_type": "code",
   "execution_count": 20,
   "id": "0ed31205-56af-437b-922e-d36dddeaef40",
   "metadata": {},
   "outputs": [],
   "source": [
    "filename = 'reflection_list.ref'"
   ]
  },
  {
   "cell_type": "code",
   "execution_count": 21,
   "id": "64650abf-1b1d-47a2-94e2-948604b7635b",
   "metadata": {},
   "outputs": [
    {
     "name": "stdout",
     "output_type": "stream",
     "text": [
      "generation of reflection list: completed\n"
     ]
    },
    {
     "data": {
      "text/plain": [
       "0"
      ]
     },
     "execution_count": 21,
     "metadata": {},
     "output_type": "execute_result"
    }
   ],
   "source": [
    "reflection_list(filename,hmax,lmax,qemax,qimax,a_max,c_max,flag)"
   ]
  },
  {
   "cell_type": "markdown",
   "id": "9R6Ymr-JomJE",
   "metadata": {
    "id": "9R6Ymr-JomJE"
   },
   "source": []
  }
 ],
 "metadata": {
  "colab": {
   "provenance": []
  },
  "kernelspec": {
   "display_name": "Python 3 (ipykernel)",
   "language": "python",
   "name": "python3"
  },
  "language_info": {
   "codemirror_mode": {
    "name": "ipython",
    "version": 3
   },
   "file_extension": ".py",
   "mimetype": "text/x-python",
   "name": "python",
   "nbconvert_exporter": "python",
   "pygments_lexer": "ipython3",
   "version": "3.10.12"
  }
 },
 "nbformat": 4,
 "nbformat_minor": 5
}

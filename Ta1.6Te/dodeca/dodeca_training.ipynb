{
 "cells": [
  {
   "cell_type": "code",
   "execution_count": 1,
   "id": "61ac28bd-808d-4df8-9115-f8c6ddbff0da",
   "metadata": {
    "id": "61ac28bd-808d-4df8-9115-f8c6ddbff0da"
   },
   "outputs": [],
   "source": [
    "import sys\n",
    "import numpy as np\n",
    "\n",
    "PI = np.pi\n",
    "SIN = np.sqrt(3)/2.0\n",
    "CONST1 = 2/np.sqrt(6)\n",
    "CONST2 = 1/np.sqrt(2)"
   ]
  },
  {
   "cell_type": "markdown",
   "id": "ea2ac4cb-ab32-436f-b78f-b3872c2a9f6e",
   "metadata": {
    "id": "ea2ac4cb-ab32-436f-b78f-b3872c2a9f6e"
   },
   "source": [
    "#### 逆格子空間での射影"
   ]
  },
  {
   "cell_type": "code",
   "execution_count": 2,
   "id": "afcd1e11-d2b6-4697-bfb2-0afe21b56b85",
   "metadata": {
    "id": "afcd1e11-d2b6-4697-bfb2-0afe21b56b85"
   },
   "outputs": [],
   "source": [
    "def prjctn_recipro_par(r,a=1.0,c=1.0):\n",
    "    \"\"\"\n",
    "    parallel component of 5D reciprocal lattice vector\n",
    "    input\n",
    "    list:r, 5D reflection index\n",
    "    float:a, lattice constant\n",
    "    float:c, lattice constant\n",
    "    \"\"\"\n",
    "    x = (1*r[0]+SIN*r[1]+0.5*r[2]       )/a*CONST2\n",
    "    y = (       0.5*r[1]+SIN*r[2]+1*r[3])/a*CONST2\n",
    "    z = r[4]/c\n",
    "    return [x,y,z]\n",
    "\n",
    "def prjctn_recipro_perp(r,a=1.0):\n",
    "    \"\"\"\n",
    "    perpendicular component of 5D reciprocal lattice vector\n",
    "    input\n",
    "    list:r, 4D reflection index\n",
    "    float:a, lattice constant\n",
    "    \"\"\"\n",
    "    x=(1*r[0]-SIN*r[1]+0.5*r[2]     )/a*CONST2\n",
    "    y=(       0.5*r[1]-SIN*r[2]+r[3])/a*CONST2\n",
    "    return [x,y]\n"
   ]
  },
  {
   "cell_type": "code",
   "execution_count": 3,
   "id": "be83e2c4-3bd2-4fd6-b829-e1cba5d3a293",
   "metadata": {
    "id": "be83e2c4-3bd2-4fd6-b829-e1cba5d3a293"
   },
   "outputs": [],
   "source": [
    "def prjctn_recipro_par_length(r,a=1.0,c=1.0):\n",
    "    [x,y,z]=prjctn_recipro_par(r,a,c)\n",
    "    return np.sqrt(x**2+y**2+z**2)\n",
    "\n",
    "def prjctn_recipro_perp_length(r,a=1.0):\n",
    "    [x,y]=prjctn_recipro_perp(r,a)\n",
    "    return np.sqrt(x**2+y**2)\n"
   ]
  },
  {
   "cell_type": "markdown",
   "id": "b32997db-e089-4e6d-88b9-a8e18b42c94a",
   "metadata": {
    "id": "b32997db-e089-4e6d-88b9-a8e18b42c94a"
   },
   "source": [
    "#### 実空間での射影"
   ]
  },
  {
   "cell_type": "code",
   "execution_count": 4,
   "id": "2abcb3cf-0fd4-4147-b0df-6c1f1ec26d40",
   "metadata": {
    "id": "2abcb3cf-0fd4-4147-b0df-6c1f1ec26d40"
   },
   "outputs": [],
   "source": [
    "def prjctn_direct_par_length(r,a=1.0,c=1.0):\n",
    "    [x,y,z]=prjctn_direct_par(r,a,c)\n",
    "    return np.sqrt(x**2+y**2+z**2)\n",
    "\n",
    "def prjctn_direct_perp_length(r,a=1.0):\n",
    "    [x,y]=prjctn_direct_perp(r,a)\n",
    "    return np.sqrt(x**2+y**2)\n"
   ]
  },
  {
   "cell_type": "code",
   "execution_count": 5,
   "id": "45aee9b0-70b0-436f-8281-edcd59e9746f",
   "metadata": {
    "id": "45aee9b0-70b0-436f-8281-edcd59e9746f"
   },
   "outputs": [],
   "source": [
    "def prjctn_direct_par(r,a=1.0,c=1.0):\n",
    "    \"\"\"\n",
    "    parallel component of 5D reciprocal lattice vector\n",
    "    input\n",
    "    list:r, 5D reflection index\n",
    "    float:a, lattice constant\n",
    "    float:c, lattice constant\n",
    "    \"\"\"\n",
    "    x = ( SIN*r[0]+r[1]     -0.5*r[3])*a*CONST1\n",
    "    y = (-0.5*r[0]     +r[2]+SIN*r[3])*a*CONST1\n",
    "    z = r[4]*c\n",
    "    return [x,y,z]\n",
    "\n",
    "def prjctn_direct_perp(r,a=1.0):\n",
    "    \"\"\"\n",
    "    perpendicular component of 5D reciprocal lattice vector\n",
    "    input\n",
    "    list:r, 5D reflection index\n",
    "    float:a, lattice constant\n",
    "    \"\"\"\n",
    "    x = (-SIN*r[0]+r[1]-0.5*r[3])*a*CONST1\n",
    "    y = (-0.5*r[0]+r[2]-SIN*r[3])*a*CONST1\n",
    "    return [x,y]\n"
   ]
  },
  {
   "cell_type": "markdown",
   "id": "38758349-8ce5-4a32-8741-56e859f92f2c",
   "metadata": {
    "id": "38758349-8ce5-4a32-8741-56e859f92f2c"
   },
   "source": [
    "#### 回折角"
   ]
  },
  {
   "cell_type": "code",
   "execution_count": 6,
   "id": "eb3f910d-40d8-4c0f-8721-822945078395",
   "metadata": {
    "id": "eb3f910d-40d8-4c0f-8721-822945078395"
   },
   "outputs": [],
   "source": [
    "def reflection_angle(wvl,hklmno,a,c):\n",
    "    \"\"\"\n",
    "    return theta-angle in rad.\n",
    "    \"\"\"\n",
    "    qpar = prjctn_recipro_par_length(hklmno,a,c)\n",
    "    theta = np.arcsin(qpar*wvl/2)\n",
    "    return theta\n"
   ]
  },
  {
   "cell_type": "markdown",
   "id": "fde412a6-49d5-4f7b-8875-fc0498d6ab76",
   "metadata": {
    "id": "fde412a6-49d5-4f7b-8875-fc0498d6ab76"
   },
   "source": [
    "#### フーリエ変換"
   ]
  },
  {
   "cell_type": "code",
   "execution_count": 7,
   "id": "eb462a12-5826-48a0-944e-567cb8c50b80",
   "metadata": {
    "id": "eb462a12-5826-48a0-944e-567cb8c50b80"
   },
   "outputs": [],
   "source": [
    "import math\n",
    "from scipy import integrate\n",
    "import cmath"
   ]
  },
  {
   "cell_type": "code",
   "execution_count": 8,
   "id": "65c546d2-471c-4051-b520-9b21dbcded90",
   "metadata": {
    "id": "65c546d2-471c-4051-b520-9b21dbcded90"
   },
   "outputs": [],
   "source": [
    "PI = np.pi\n",
    "TWOPI = 2.0*PI"
   ]
  },
  {
   "cell_type": "code",
   "execution_count": 9,
   "id": "db96b432-1eb0-4bae-a0a8-9e83893d71bd",
   "metadata": {
    "id": "db96b432-1eb0-4bae-a0a8-9e83893d71bd"
   },
   "outputs": [],
   "source": [
    "def calc_FT(hkl,xyz):\n",
    "    \"\"\"\n",
    "    格子のフーリエ変換の計算\n",
    "    see\n",
    "    Yamamoto, qcdiff, qcdiff1.f90, L.1789, subroutine stfcd(h,f,fn,dfdxx,q,ny,dfdbia)\n",
    "\n",
    "    input:\n",
    "\n",
    "    :param array hkl:\n",
    "    :param array xyz:\n",
    "    \"\"\"\n",
    "    val = 0.0+0.0*1j\n",
    "    #print('  hkl = ',hkl)\n",
    "    #print('  xyz = ',xyz)\n",
    "    if xyz.ndim == 1:\n",
    "        con1 = np.dot(hkl,xyz)\n",
    "        #print('  con1 = ',con1)\n",
    "        val = cmath.exp(TWOPI*con1*1j)\n",
    "    elif xyz.ndim == 2:\n",
    "        for i in range(len(xyz)):\n",
    "            con1 = np.dot(hkl,xyz[i])\n",
    "            val += cmath.exp(TWOPI*con1*1j)\n",
    "    else:\n",
    "        print('check your model')\n",
    "    return val"
   ]
  },
  {
   "cell_type": "code",
   "execution_count": 10,
   "id": "29185ddd-4030-4b18-ad52-0b1035a95fe9",
   "metadata": {
    "id": "29185ddd-4030-4b18-ad52-0b1035a95fe9"
   },
   "outputs": [],
   "source": [
    "def calc_od_FT(shape,obj,hkl,position,site_symmetry,flag=0,ad=1.0,scl=1.0,eps=1E-3):\n",
    "    \"\"\"This returns Fourier integral of an occupation domain.\n",
    "\n",
    "    Parameters\n",
    "    ----------\n",
    "    shape: str\n",
    "        shape of the occupation domain.\n",
    "    obj: list\n",
    "        occupation domain(set of triangle)\n",
    "    hkl: list\n",
    "        reflection index\n",
    "    position: ndarray\n",
    "        centre position of the od\n",
    "    site_symmetry: list\n",
    "        index of symmetry operation of the site symmetry\n",
    "    flag: int\n",
    "        (0) the model is centre symmetric\n",
    "        (1) the model is not centre symmetric\n",
    "    ad: float\n",
    "        dodecagonal lattica constant\n",
    "    scl: float\n",
    "        scale\n",
    "    eps: float\n",
    "\n",
    "    Returns\n",
    "    -------\n",
    "    \"\"\"\n",
    "    if shape == 'triangle':\n",
    "        if site_symmetry==[-1]: # symmetric ODs\n",
    "            od=obj\n",
    "        else: # asymmetric unit of ODs\n",
    "            od=generator_obj_symmetric_obj_specific_symop(obj,position,site_symmetry)\n",
    "            #n1,n2,n3,n4,n5=od.shape\n",
    "            #od=od.reshape(n1*n2,n3,n4,n5)\n",
    "        return fpoly(od,hkl,flag,ad,scl,eps)\n",
    "\n",
    "    else:\n",
    "        print('OD shape error')\n",
    "        return"
   ]
  },
  {
   "cell_type": "code",
   "execution_count": 11,
   "id": "bf0101f2-2180-4fbd-97a3-8aef32b3cc5a",
   "metadata": {
    "id": "bf0101f2-2180-4fbd-97a3-8aef32b3cc5a"
   },
   "outputs": [],
   "source": [
    "def fpoly(od,hkl,flag,ad,scl,eps):\n",
    "    \"\"\"This function returns Fourier integral of an indipendent occupation domain (multi-triangles)\n",
    "\n",
    "    Parameters\n",
    "    ----------\n",
    "    od: list\n",
    "        occupation domain(set of triangle)\n",
    "    hkl: list\n",
    "        reflection index\n",
    "    site: ndarray\n",
    "        centre position of the od\n",
    "    ad: float\n",
    "        dodecagonal lattica constalt\n",
    "    scl: float\n",
    "        scale\n",
    "    flag: int\n",
    "        (0) od\n",
    "        (1) inversion of od is used for calculation\n",
    "    eps: float\n",
    "\n",
    "    Returns\n",
    "    -------\n",
    "    \"\"\"\n",
    "    out=0.0+0.0*1j\n",
    "    for triangle in od:\n",
    "        e1=triangle[1]-triangle[0]\n",
    "        e2=triangle[2]-triangle[0]\n",
    "        e1 = prjctn_direct_perp(e1,ad)\n",
    "        e2 = prjctn_direct_perp(e2,ad)\n",
    "        out+=fourier2d_qcdiff_0(e1,e2,hkl,ad,scl,eps)\n",
    "    if flag==0:\n",
    "        return out\n",
    "    else:\n",
    "        # odに反転操作を行ったもののフーリエ変換は、odのフーリエ変換の共役になる。\n",
    "        return out.conjugate()"
   ]
  },
  {
   "cell_type": "code",
   "execution_count": 12,
   "id": "91a9ea08-cd88-45c5-a6ac-7b7da1c61c5d",
   "metadata": {
    "id": "91a9ea08-cd88-45c5-a6ac-7b7da1c61c5d"
   },
   "outputs": [],
   "source": [
    "def fourier2d_qcdiff_0(e1i,e2i,hkl,ad,scl,eps):\n",
    "    \"\"\"\n",
    "    Fourier integral of a triangle defined by e1 and e2.\n",
    "    Reference:\n",
    "    Yamamoto, qcdiff, occupdom.f90, L.956, complex function fq0d(hr,e1,e2,v,rmax,dfqdr)\n",
    "\n",
    "    input:\n",
    "\n",
    "    :param vertex coordinates of the triangle, e1 and e2\n",
    "    :param nd.array: hkl\n",
    "    :param float: ad\n",
    "    :param float: scl (= rmax, in qcdiff)\n",
    "    :param float: eps\n",
    "    \"\"\"\n",
    "    #projection onto the internal space of reflection indices\n",
    "    qi = prjctn_recipro_perp(hkl,ad)\n",
    "    qi = np.array(qi)\n",
    "\n",
    "    #volume of the triangle\n",
    "    vol = abs(np.cross(e1i,e2i))/2.0*scl**2\n",
    "\n",
    "    q1 = TWOPI*np.dot(qi,e1i)*scl\n",
    "    q2 = TWOPI*np.dot(qi,e2i)*scl\n",
    "    q3 = q1-q2 # ここ重要：q2-q1ではない！\n",
    "\n",
    "    cexp01 = cmath.exp(1j*q1)-1\n",
    "    cexp02 = cmath.exp(1j*q2)-1\n",
    "    cexp1 = cmath.exp(1j*q1)-1-1j*q1\n",
    "    cexp2 = cmath.exp(1j*q2)-1-1j*q2\n",
    "    dcq1dq = 1j*cmath.exp(1j*q1)-1j\n",
    "\n",
    "    if abs(q1)<eps and abs(q2)<eps:\n",
    "        val = vol/2.0\n",
    "    elif abs(q1)<eps:\n",
    "        val = -vol*cexp2/q2**2\n",
    "    elif abs(q2)<eps:\n",
    "        val = -vol*cexp1/q1**2\n",
    "    elif abs(q3)<eps:\n",
    "        val = vol*(cexp1/q1**2-dcq1dq/q1)\n",
    "    else:\n",
    "        val = vol*(q1*cexp02-q2*cexp01)/(q1*q2*q3)\n",
    "\n",
    "    return val"
   ]
  },
  {
   "cell_type": "markdown",
   "id": "645757c4-ae47-4c0a-bed8-667f7fa3c49b",
   "metadata": {
    "id": "645757c4-ae47-4c0a-bed8-667f7fa3c49b"
   },
   "source": [
    "#### ODの定義"
   ]
  },
  {
   "cell_type": "code",
   "execution_count": 13,
   "id": "a2c4abd4-630a-4854-942f-4f04d6c1b962",
   "metadata": {},
   "outputs": [],
   "source": [
    "od_B = []\n",
    "tr1 = [[0,0,0,0,0],[0,1,0,0,0],[-1,0,0,0,0]]\n",
    "tr2 = [[0,0,0,0,0],[-1,0,0,0,0],[0,0,0,-1,0]]\n",
    "tr3 = [[0,0,0,0,0],[0,0,0,-1,0],[0,0,1,0,0]]\n",
    "tr4 = [[0,0,0,0,0],[0,0,1,0,0],[0,-1,0,-1,0]]\n",
    "tr5 = [[0,0,0,0,0],[0,-1,0,-1,0],[1,0,1,0,0]]\n",
    "tr6 = [[0,0,0,0,0],[1,0,1,0,0],[0,-1,0,0,0]]\n",
    "tr7 = [[0,0,0,0,0],[0,-1,0,0,0],[1,0,0,0,0]]\n",
    "tr8 = [[0,0,0,0,0],[1,0,0,0,0],[0,0,0,1,0]]\n",
    "tr9 = [[0,0,0,0,0],[0,0,0,1,0],[0,0,-1,0,0]]\n",
    "tr10 = [[0,0,0,0,0],[0,0,-1,0,0],[0,1,0,1,0]]\n",
    "tr11 = [[0,0,0,0,0],[0,1,0,1,0,],[-1,0,-1,0,0]]\n",
    "tr12 = [[0,0,0,0,0],[-1,0,-1,0,0],[0,1,0,0,0]]\n",
    "\n",
    "od_B = np.array([tr1,tr2,tr3,tr4,tr5,tr6,tr7,tr8,tr9,tr10,tr11,tr12])"
   ]
  },
  {
   "cell_type": "code",
   "execution_count": 14,
   "id": "b20afb01-5396-47c0-bcf0-1e6c090cf0cb",
   "metadata": {
    "id": "b20afb01-5396-47c0-bcf0-1e6c090cf0cb"
   },
   "outputs": [],
   "source": [
    "# od_B = []\n",
    "# tr1 = [[0,0,0,0,0],[0,1,0,0,0],[0,0,0,-1,0]]\n",
    "# tr2 = [[0,0,0,0,0],[-1,0,0,0,0],[0,0,1,0,0]]\n",
    "# tr3 = [[0,0,0,0,0],[0,0,0,-1,0],[0,-1,0,-1,0]]\n",
    "# tr4 = [[0,0,0,0,0],[0,0,1,0,0],[1,0,1,0,0]]\n",
    "# tr5 = [[0,0,0,0,0],[0,-1,0,-1,0],[0,-1,0,0,0]]\n",
    "# tr6 = [[0,0,0,0,0],[1,0,1,0,0],[1,0,0,0,0]]\n",
    "# tr7 = [[0,0,0,0,0],[0,-1,0,0,0],[0,0,0,1,0]]\n",
    "# tr8 = [[0,0,0,0,0],[1,0,0,0,0],[0,0,-1,0,0]]\n",
    "# tr9 = [[0,0,0,0,0],[0,0,0,1,0],[0,1,0,1,0]]\n",
    "# tr10 = [[0,0,0,0,0],[0,0,-1,0,0],[-1,0,-1,0,0]]\n",
    "# tr11 = [[0,0,0,0,0],[0,1,0,1,0],[0,1,0,0,0]]\n",
    "# tr12 = [[0,0,0,0,0],[-1,0,-1,0,0],[-1,0,0,0,0]]\n",
    "\n",
    "# od_B = np.array([tr1,tr3,tr5,tr7,tr9,tr11])"
   ]
  },
  {
   "cell_type": "code",
   "execution_count": 15,
   "id": "85505dee-275f-4fdb-9c5f-9cba33270c5c",
   "metadata": {},
   "outputs": [],
   "source": [
    "# od_A = []\n",
    "\n",
    "# od_A = np.array([tr2,tr4,tr6,tr8,tr10,tr12])"
   ]
  },
  {
   "cell_type": "markdown",
   "id": "d32c71d6-6279-40c4-8487-db2c446bd1ed",
   "metadata": {
    "id": "d32c71d6-6279-40c4-8487-db2c446bd1ed"
   },
   "source": [
    "#### 指数発生"
   ]
  },
  {
   "cell_type": "code",
   "execution_count": 16,
   "id": "d951810e-a161-48af-8703-9ad5f1f76b9c",
   "metadata": {},
   "outputs": [],
   "source": [
    "EPS=1E-6"
   ]
  },
  {
   "cell_type": "markdown",
   "id": "4e7fba04-c222-488c-bf80-876dbea49b40",
   "metadata": {},
   "source": [
    "#### 原子散乱因子"
   ]
  },
  {
   "cell_type": "code",
   "execution_count": 17,
   "id": "1cd00282-aae7-4541-b619-c2d4c3014006",
   "metadata": {},
   "outputs": [],
   "source": [
    "import atom as at\n"
   ]
  },
  {
   "cell_type": "code",
   "execution_count": 18,
   "id": "a4d2b1d3-5a5a-471e-83b2-e8038f33c7b5",
   "metadata": {},
   "outputs": [],
   "source": [
    "def calc_asf(element, theta): # Atomic scattering factor\n",
    "    p = at.aff_parameters[element]\n",
    "    a = [p[0], p[2], p[4], p[6], p[8]]\n",
    "    b = [p[1], p[3], p[5], p[7], p[9]]\n",
    "    c = p[10]\n",
    "    sum_ = 0.0\n",
    "    for i in range(5):\n",
    "        sum_ = sum_+ a[i]*math.exp(-1.0*b[i]*math.sin(theta/180.0*np.pi)**2.0/wvl**2.0)\n",
    "    return sum_+c"
   ]
  },
  {
   "cell_type": "markdown",
   "id": "71aba589-448c-441b-8c58-07fd3dd75bb6",
   "metadata": {},
   "source": [
    "#### ローレンツ因子"
   ]
  },
  {
   "cell_type": "code",
   "execution_count": 19,
   "id": "e37ad346-8e9d-49a4-8741-63c3bf2475fd",
   "metadata": {},
   "outputs": [],
   "source": [
    "def calc_LP(theta): #Lorentz-polarization factor\n",
    "    p1=math.cos(2.0*theta/180.0*np.pi)\n",
    "    p2=math.sin(theta/180.0*np.pi)\n",
    "    p3=math.cos(theta/180.0*np.pi)\n",
    "    return (1.0+p1**2.0)/p2**2.0/p3"
   ]
  },
  {
   "cell_type": "markdown",
   "id": "64dad58e-f068-4a4b-859d-b514441b42a1",
   "metadata": {},
   "source": [
    "#### 温度因子"
   ]
  },
  {
   "cell_type": "code",
   "execution_count": 20,
   "id": "ae62b908-46c6-4719-a938-59bbae18a14e",
   "metadata": {},
   "outputs": [],
   "source": [
    "B_par = 1.519\n",
    "B_perp = 54.00\n",
    "\n"
   ]
  },
  {
   "cell_type": "code",
   "execution_count": 21,
   "id": "bc01858a-195e-4fee-918c-0fbc6689a34f",
   "metadata": {},
   "outputs": [],
   "source": [
    "def temfact(B_par,B_perp,g_par,g_perp):\n",
    "    # for g in peaks_dict.values():\n",
    "    return math.exp(-(B_par*g_par**2+B_perp*g_perp**2)/4)\n",
    "\n"
   ]
  },
  {
   "cell_type": "markdown",
   "id": "f12150d9-1c0c-4e0e-a3f9-cde8a9f0f195",
   "metadata": {},
   "source": [
    "#### ローレンツ関数畳み込み"
   ]
  },
  {
   "cell_type": "code",
   "execution_count": 22,
   "id": "fcf2193b-f464-48bb-844b-c3a176a449e5",
   "metadata": {},
   "outputs": [],
   "source": [
    "def Lorenz(p, x): #Lorenzian\n",
    "    return ((p[0]*p[1]**2/((x-p[2])**2+p[1]**2)))"
   ]
  },
  {
   "cell_type": "code",
   "execution_count": 23,
   "id": "04138c00-f337-46ad-a9f6-f039385a4101",
   "metadata": {},
   "outputs": [],
   "source": [
    "def read_file(file):\n",
    "    \"\"\"\n",
    "    read a file\n",
    "    input: \n",
    "    :param file: file name of the imput.\n",
    "    \"\"\"\n",
    "    try:\n",
    "        f=open(file,'r')\n",
    "    except IOError as e:\n",
    "        print(e)\n",
    "        sys.exit(0)\n",
    "    line=[]\n",
    "    while 1:\n",
    "        a=f.readline()\n",
    "        if not a:\n",
    "            break\n",
    "        line.append(a[:-1])\n",
    "    return line"
   ]
  },
  {
   "cell_type": "code",
   "execution_count": 24,
   "id": "b461fbe2-9e21-4e94-a611-4c1e06f507ee",
   "metadata": {},
   "outputs": [],
   "source": [
    "reflist = read_file(\"./reflection_list.ref\")"
   ]
  },
  {
   "cell_type": "code",
   "execution_count": 25,
   "id": "e3221e0b-130c-4472-bccd-a81ff8c12ad7",
   "metadata": {},
   "outputs": [],
   "source": [
    "peaks_dict = {}\n",
    "for i in range(1,len(reflist)):\n",
    "    b = reflist[i].split()\n",
    "    hklmno = np.array([int(b[0]),int(b[1]),int(b[2]),int(b[3]),int(b[4])])\n",
    "    multiplicity = int(b[5])\n",
    "    g_par = float(b[6])\n",
    "    g_perp = float(b[7])\n",
    "    peaks_dict[i] = [hklmno,multiplicity,g_par,g_perp]\n",
    "    # print(hklmno)\n",
    "    # print(multiplicity)\n",
    "    #print(g_par)\n",
    "    #print(g_perp)\n",
    "# print(peaks_dict)\n",
    "    # print(multiplicity)"
   ]
  },
  {
   "cell_type": "markdown",
   "id": "0b60d2c5-096f-4b83-a4d5-731c4f2144ea",
   "metadata": {
    "id": "0b60d2c5-096f-4b83-a4d5-731c4f2144ea"
   },
   "source": [
    "#### 構造因子の計算"
   ]
  },
  {
   "cell_type": "code",
   "execution_count": 26,
   "id": "cb3a7c6d-5a06-4341-99bf-32d993c42a36",
   "metadata": {
    "id": "cb3a7c6d-5a06-4341-99bf-32d993c42a36"
   },
   "outputs": [],
   "source": [
    "import tqdm\n",
    "\n",
    "def structure_factor(peaks_dict,a,c,wvl,myModel,elm_A,elm_B,flag,p):\n",
    "    theta_list = []\n",
    "    intensity_dict = {}\n",
    "    for nref in peaks_dict:\n",
    "        hklmno, multiplicity,g_par,g_perp = peaks_dict[nref]\n",
    "        theta=reflection_angle(wvl,hklmno,a,c) # in rad.\n",
    "        # if theta in theta_list:\n",
    "        #     continue\n",
    "        # else:\n",
    "        #     theta_list.append(theta)\n",
    "        q_par_len=2*math.sin(theta)/wvl # in Ang*{-1}\n",
    "        if theta>0. and theta<PI/2.0:\n",
    "            position,shape,obj,site_symmetry = myModel\n",
    "            xaxis = 2*theta/PI*180 # tth in degree\n",
    "            xaxis = round(xaxis,3)\n",
    "            pos_FT = calc_FT(hklmno,position)\n",
    "            od_FT = calc_od_FT(shape,obj,hklmno,position,site_symmetry,flag=0,ad=1.0,scl=1.0,eps=1E-3)\n",
    "            # print(od_FT)\n",
    "            # asf = calc_asf(element, xaxis)\n",
    "            \n",
    "            # pos_FT1 = calc_FT(hklmno,position)\n",
    "            # pos_FT2 = calc_FT(hklmno,position2)\n",
    "            \n",
    "            # od_FT1 = calc_od_FT(shape,obj_A,hklmno,position,site_symmetry)  \n",
    "            # # od_FT2 = calc_od_FT(shape,obj_B,hklmno,position,site_symmetry,1)   \n",
    "            # od_FT2 = calc_od_FT(shape,obj_B,hklmno,position,site_symmetry)\n",
    "                        \n",
    "            asf1 = calc_asf(elm_A, xaxis)\n",
    "            asf2 = calc_asf(elm_B, xaxis)\n",
    "\n",
    "            # 2024.12.05 TY modified.\n",
    "            #TF = temfact(B_par,B_perp,g_par,g_perp) \n",
    "            q_per_len=prjctn_recipro_perp_length(hklmno)\n",
    "            TF = temfact(B_par,B_perp,q_par_len,q_per_len)\n",
    "            \n",
    "            LP = calc_LP(xaxis)\n",
    "            # # sfacs += pos_FT1*od_FT1*asf1*TF\n",
    "            # # sfacs += pos_FT2*od_FT2*asf2*TF\n",
    "            # sfacs1 = pos_FT1*od_FT1*asf1*TF\n",
    "            # sfacs2 = pos_FT2*od_FT2*asf2*TF\n",
    "            # sfacs = sfacs1+sfacs2\n",
    "\n",
    "            sfacs1 = pos_FT*od_FT*p*asf1*TF\n",
    "            sfacs2 = pos_FT*od_FT*(1-p)*asf2*TF\n",
    "            sfacs = sfacs1+sfacs2\n",
    "            # sfacs = pos_FT*od_FT*asf*TF\n",
    "            intensity = LP*multiplicity*(sfacs.real**2 + sfacs.imag**2)\n",
    "            # multiplicity*\n",
    "\n",
    "            #xaxis = 2*theta/PI*180 # tth in degree\n",
    "            #xaxis = round(xaxis,3)\n",
    "\n",
    "            #Lorenz factor\n",
    "            #lpf = factor_Lorenz(theta) # theta in rad.\n",
    "            #intensity = lpf*multiplicity*(sfacs.real**2 + sfacs.imag**2)\n",
    "            try:\n",
    "                intensity_dict[xaxis] += intensity.real\n",
    "            except:\n",
    "                intensity_dict[xaxis] = intensity.real\n",
    "        else:\n",
    "            pass\n",
    "    return intensity_dict"
   ]
  },
  {
   "cell_type": "code",
   "execution_count": 27,
   "id": "5426f340-7224-4ffd-b5f6-f41a1eb62570",
   "metadata": {},
   "outputs": [
    {
     "name": "stdout",
     "output_type": "stream",
     "text": [
      "(array([[ 0,  1,  0,  0,  0],\n",
      "       [ 0,  0,  1,  0,  0],\n",
      "       [ 0,  0,  0,  1,  0],\n",
      "       [-1,  0,  1,  0,  0],\n",
      "       [ 0,  0,  0,  0,  1]]), array([[ 0,  0,  1,  0,  0],\n",
      "       [ 0,  1,  0,  0,  0],\n",
      "       [ 1,  0,  0,  0,  0],\n",
      "       [ 0,  1,  0, -1,  0],\n",
      "       [ 0,  0,  0,  0,  1]]), array([[0, 0, 0, 1, 0],\n",
      "       [0, 0, 1, 0, 0],\n",
      "       [0, 1, 0, 0, 0],\n",
      "       [1, 0, 0, 0, 0],\n",
      "       [0, 0, 0, 0, 1]]), array([[-1,  0,  0,  0,  0],\n",
      "       [ 0, -1,  0,  0,  0],\n",
      "       [ 0,  0, -1,  0,  0],\n",
      "       [ 0,  0,  0, -1,  0],\n",
      "       [ 0,  0,  0,  0, -1]]))\n"
     ]
    }
   ],
   "source": [
    "import generator as gm\n",
    "print(gm.mattrix_dodeca_sym())"
   ]
  },
  {
   "cell_type": "code",
   "execution_count": 28,
   "id": "839cdaa9-a56b-4103-801e-972725f7bbd3",
   "metadata": {
    "id": "839cdaa9-a56b-4103-801e-972725f7bbd3"
   },
   "outputs": [],
   "source": [
    "hmax=5\n",
    "lmax=4\n",
    "a=7.886\n",
    "c=10.403\n",
    "\n",
    "wvl_dic={} #X線の波長\n",
    "wvl_dic['Cu_Ka'] = 1.54059 # in Ang.\n",
    "wvl_dic['Mo_Ka'] = 0.71069 # in Ang.\n",
    "wvl = wvl_dic['Cu_Ka']\n",
    "# element = 'Ta'\n",
    "\n",
    "qemax = 2/wvl # in Ang.^{-1}\n",
    "qimax = 0.5\n",
    "\n",
    "flag = 'unique'\n",
    "\n",
    "__,__,__,symop_inv = gm.mattrix_dodeca_sym()\n",
    "\n",
    "#五次元構造の情報\n",
    "#五次元格子の各頂点に占有領域Aがある\n",
    "position = np.array([0,0,0,0,0]) #占有領域od_Bの中心位置\n",
    "position2 = np.dot(symop_inv,position)\n",
    "\n",
    "#占有領域Aの定義\n",
    "shape = 'triangle'\n",
    "# obj_A = od_A\n",
    "# obj_B = od_B\n",
    "obj = od_B\n",
    "site_symmetry = [-1]\n",
    "myModel = [position,shape,obj,site_symmetry]\n",
    "\n",
    "# elm_A = 'Al'\n",
    "# elm_B = 'Mn'\n",
    "\n",
    "# elm_A = 'Al'\n",
    "# elm_B = 'Ta'\n",
    "\n",
    "\n",
    "# inten_dict = structure_factor(peaks_dict,a,c,wvl,myModel,elm_A,elm_B,flag)"
   ]
  },
  {
   "cell_type": "code",
   "execution_count": 29,
   "id": "c324a300-435c-47ec-93c4-cce262f045f8",
   "metadata": {},
   "outputs": [],
   "source": [
    "#peaks_dict"
   ]
  },
  {
   "cell_type": "code",
   "execution_count": 30,
   "id": "5739a0e1-897b-4e06-9c00-c594a76dcc50",
   "metadata": {},
   "outputs": [],
   "source": [
    "# inten_dict"
   ]
  },
  {
   "cell_type": "code",
   "execution_count": 31,
   "id": "8f677807-3355-4608-bd95-d4b81e2c9dde",
   "metadata": {},
   "outputs": [],
   "source": [
    "tth_min=0\n",
    "tth_max=60\n",
    "tth_step=0.01\n",
    "data_num=100"
   ]
  },
  {
   "cell_type": "code",
   "execution_count": 32,
   "id": "de2e1e6f-35a0-4576-9cbd-efab0509bbd3",
   "metadata": {},
   "outputs": [],
   "source": [
    "import random"
   ]
  },
  {
   "cell_type": "code",
   "execution_count": 33,
   "id": "d369a3d1-8fb3-4c50-ba50-4d4f727e48eb",
   "metadata": {},
   "outputs": [
    {
     "name": "stderr",
     "output_type": "stream",
     "text": [
      "training data:   0%|                                                                                | 0/100 [00:00<?, ?it/s]/tmp/ipykernel_2691/2953877981.py:20: DeprecationWarning: Arrays of 2-dimensional vectors are deprecated. Use arrays of 3-dimensional vectors instead. (deprecated in NumPy 2.0)\n",
      "  vol = abs(np.cross(e1i,e2i))/2.0*scl**2\n",
      "training data: 100%|██████████████████████████████████████████████████████████████████████| 100/100 [01:32<00:00,  1.08it/s]\n"
     ]
    }
   ],
   "source": [
    "data_list = []\n",
    "\n",
    "# list1 = []\n",
    "# list1.append(at.aff_parameters.keys())\n",
    "list1 = list(at.aff_parameters.keys())\n",
    "\n",
    "rng = np.random.default_rng()\n",
    "for __ in tqdm.tqdm(range(data_num), desc='training data'):\n",
    "    a = rng.uniform(7.0, 9.0)\n",
    "    c = rng.uniform(10.0, 12.0)\n",
    "    # a = 7.0\n",
    "    # c = 10.0\n",
    "    # element = np.random.choice(list(at.aff_parameters.keys()))\n",
    "\n",
    "    # elm_A = np.random.choice(list(at.aff_parameters.keys()))\n",
    "    # print(list(at.aff_parameters.keys()))\n",
    "    # # popped_item = list(at.aff_parameters.keys()).pop(elm_A)\n",
    "    # elm_B = np.random.choice(list(at.aff_parameters.keys()))\n",
    "    \n",
    "    elm_A = np.random.choice(list1)\n",
    "    # popped_item = list1.pop(elm_A)\n",
    "    list1.remove(str(elm_A))\n",
    "    elm_B = np.random.choice(list1)\n",
    "    list1.append(elm_A)\n",
    "    # print(elm_A)\n",
    "    # print(elm_B)\n",
    "    hwhm = rng.uniform(0.01, 0.1)\n",
    "    p = rng.uniform(0, 1)\n",
    "    # element = 'Ta'\n",
    "    # hwhm = 0.01\n",
    "    inten_dict = structure_factor(peaks_dict,a,c,wvl,myModel,elm_A,elm_B,flag,p)\n",
    "    len_pattern = int((tth_max-tth_min)/tth_step)\n",
    "    vector=np.array([0.0]*len_pattern)\n",
    "    tths = np.arange(tth_min, tth_max, tth_step)\n",
    "    #print(tths)\n",
    "    for tth in inten_dict.keys():\n",
    "        #print(tth)\n",
    "        # inten_dict[tth][0]\n",
    "        vector += Lorenz([inten_dict[tth], hwhm, tth], tths)\n",
    "    vector = vector/np.max(vector)\n",
    "    data_list.append(vector)\n",
    "np.array(data_list)\n",
    "np.save('data1/test_dodeca.npy', data_list)"
   ]
  },
  {
   "cell_type": "code",
   "execution_count": 34,
   "id": "ab0131cc-9dd0-479e-911e-e8aa1d36acde",
   "metadata": {},
   "outputs": [
    {
     "name": "stdout",
     "output_type": "stream",
     "text": [
      "6000\n"
     ]
    }
   ],
   "source": [
    "print(len(vector))"
   ]
  },
  {
   "cell_type": "code",
   "execution_count": 35,
   "id": "e42f98d7-0e67-4a77-9e67-47b7e37363f2",
   "metadata": {},
   "outputs": [],
   "source": [
    "# import numpy as np\n",
    "# rng = np.random.default_rng()\n",
    "# p = rng.uniform(0, 1)\n",
    "# print(p)"
   ]
  },
  {
   "cell_type": "markdown",
   "id": "5b5e48bb-383a-40f8-be89-2db7a8857710",
   "metadata": {},
   "source": [
    "#### プロット"
   ]
  },
  {
   "cell_type": "code",
   "execution_count": 36,
   "id": "af3a7d13-2c2a-4a21-a46f-9078749be7cf",
   "metadata": {},
   "outputs": [
    {
     "data": {
      "text/plain": [
       "<function matplotlib.pyplot.show(close=None, block=None)>"
      ]
     },
     "execution_count": 36,
     "metadata": {},
     "output_type": "execute_result"
    },
    {
     "data": {
      "image/png": "[encoded data removed]",
      "text/plain": [
       "<Figure size 640x480 with 1 Axes>"
      ]
     },
     "metadata": {},
     "output_type": "display_data"
    }
   ],
   "source": [
    "#plot scatter\n",
    "import matplotlib.pyplot as plt\n",
    "fig, ax = plt.subplots()\n",
    "for i in range(data_num):\n",
    "    plt.plot(tths,data_list[i])\n",
    "plt.xlim(tth_min,tth_max)\n",
    "plt.xlabel('2Θ [deg.]')\n",
    "plt.ylabel('Intensity [a.u.]')\n",
    "#plt.legend()\n",
    "plt.rcParams['xtick.direction'] = 'in'\n",
    "plt.rcParams['ytick.direction'] = 'in'\n",
    "plt.show"
   ]
  },
  {
   "cell_type": "code",
   "execution_count": null,
   "id": "eb0fcd30-b311-4548-9326-b8a83e7b16ac",
   "metadata": {},
   "outputs": [],
   "source": []
  }
 ],
 "metadata": {
  "colab": {
   "provenance": []
  },
  "kernelspec": {
   "display_name": "Python 3 (ipykernel)",
   "language": "python",
   "name": "python3"
  },
  "language_info": {
   "codemirror_mode": {
    "name": "ipython",
    "version": 3
   },
   "file_extension": ".py",
   "mimetype": "text/x-python",
   "name": "python",
   "nbconvert_exporter": "python",
   "pygments_lexer": "ipython3",
   "version": "3.10.12"
  }
 },
 "nbformat": 4,
 "nbformat_minor": 5
}

{
  "nbformat": 4,
  "nbformat_minor": 0,
  "metadata": {
    "colab": {
      "provenance": [],
      "machine_shape": "hm"
    },
    "kernelspec": {
      "name": "python3",
      "display_name": "Python 3"
    },
    "language_info": {
      "name": "python"
    }
  },
  "cells": [
    {
      "cell_type": "code",
      "execution_count": null,
      "metadata": {
        "id": "qX8HQG8C9625"
      },
      "outputs": [],
      "source": [
        "def dataset_labeled(multiQC_data, others_data):\n",
        "    \"\"\"\n",
        "    generates labeled dataset\n",
        "    \"\"\"\n",
        "    #aico = aico_min\n",
        "    #print('Lattice constant [Å]', aico)\n",
        "\n",
        "    myData = []\n",
        "    # multiQC_data, others_data = dataset(wvl, QC_peaks, aico_min, aico_delta, hklmno_range, tth_min, tth_max, tth_step, data_num_qc, data_num_non_qc)\n",
        "\n",
        "    # Multi-iQC\n",
        "    #virtualQC_data = pxrd.calc_virtualiQC(data_num_qc, QC_peaks, wvl, aico, aico+aico_delta, tth_min, tth_max, tth_step)\n",
        "    #multiQC_data = pxrd.calc_multiQC(virtualQC_data, tth_min, tth_max, tth_step)\n",
        "    for i in multiQC_data:\n",
        "        myData.append([i,1])\n",
        "\n",
        "    # Non-iQC\n",
        "    #others_data = pxrd.calc_others(data_num_non_qc, tth_min, tth_max, tth_step)\n",
        "    for i in others_data:\n",
        "        myData.append([i,0])\n",
        "\n",
        "    random.shuffle(myData)\n",
        "    x_data = []\n",
        "    y_data = []\n",
        "    for feature, label in myData:\n",
        "        x_data.append(feature)\n",
        "        y_data.append(label)\n",
        "\n",
        "    #np.save('./x_data.npy', x_train)\n",
        "    #np.save('./y_data.npy', y_train)\n",
        "    x_data = np.array(x_data, dtype='float64')\n",
        "    y_data = np.array(y_data, dtype='float64')\n",
        "\n",
        "    return x_data, y_data\n"
      ]
    },
    {
      "cell_type": "code",
      "source": [
        "pip install optuna"
      ],
      "metadata": {
        "colab": {
          "base_uri": "https://localhost:8080/"
        },
        "id": "8PjgJ1oBrkU0",
        "outputId": "7641ffaa-926f-4d37-e728-817263b6fd6b"
      },
      "execution_count": null,
      "outputs": [
        {
          "output_type": "stream",
          "name": "stdout",
          "text": [
            "Collecting optuna\n",
            "  Downloading optuna-4.2.0-py3-none-any.whl.metadata (17 kB)\n",
            "Collecting alembic>=1.5.0 (from optuna)\n",
            "  Downloading alembic-1.14.1-py3-none-any.whl.metadata (7.4 kB)\n",
            "Collecting colorlog (from optuna)\n",
            "  Downloading colorlog-6.9.0-py3-none-any.whl.metadata (10 kB)\n",
            "Requirement already satisfied: numpy in /usr/local/lib/python3.11/dist-packages (from optuna) (1.26.4)\n",
            "Requirement already satisfied: packaging>=20.0 in /usr/local/lib/python3.11/dist-packages (from optuna) (24.2)\n",
            "Requirement already satisfied: sqlalchemy>=1.4.2 in /usr/local/lib/python3.11/dist-packages (from optuna) (2.0.37)\n",
            "Requirement already satisfied: tqdm in /usr/local/lib/python3.11/dist-packages (from optuna) (4.67.1)\n",
            "Requirement already satisfied: PyYAML in /usr/local/lib/python3.11/dist-packages (from optuna) (6.0.2)\n",
            "Collecting Mako (from alembic>=1.5.0->optuna)\n",
            "  Downloading Mako-1.3.8-py3-none-any.whl.metadata (2.9 kB)\n",
            "Requirement already satisfied: typing-extensions>=4 in /usr/local/lib/python3.11/dist-packages (from alembic>=1.5.0->optuna) (4.12.2)\n",
            "Requirement already satisfied: greenlet!=0.4.17 in /usr/local/lib/python3.11/dist-packages (from sqlalchemy>=1.4.2->optuna) (3.1.1)\n",
            "Requirement already satisfied: MarkupSafe>=0.9.2 in /usr/local/lib/python3.11/dist-packages (from Mako->alembic>=1.5.0->optuna) (3.0.2)\n",
            "Downloading optuna-4.2.0-py3-none-any.whl (383 kB)\n",
            "\u001b[2K   \u001b[90m━━━━━━━━━━━━━━━━━━━━━━━━━━━━━━━━━━━━━━━━\u001b[0m \u001b[32m383.4/383.4 kB\u001b[0m \u001b[31m32.3 MB/s\u001b[0m eta \u001b[36m0:00:00\u001b[0m\n",
            "\u001b[?25hDownloading alembic-1.14.1-py3-none-any.whl (233 kB)\n",
            "\u001b[2K   \u001b[90m━━━━━━━━━━━━━━━━━━━━━━━━━━━━━━━━━━━━━━━━\u001b[0m \u001b[32m233.6/233.6 kB\u001b[0m \u001b[31m22.4 MB/s\u001b[0m eta \u001b[36m0:00:00\u001b[0m\n",
            "\u001b[?25hDownloading colorlog-6.9.0-py3-none-any.whl (11 kB)\n",
            "Downloading Mako-1.3.8-py3-none-any.whl (78 kB)\n",
            "\u001b[2K   \u001b[90m━━━━━━━━━━━━━━━━━━━━━━━━━━━━━━━━━━━━━━━━\u001b[0m \u001b[32m78.6/78.6 kB\u001b[0m \u001b[31m7.9 MB/s\u001b[0m eta \u001b[36m0:00:00\u001b[0m\n",
            "\u001b[?25hInstalling collected packages: Mako, colorlog, alembic, optuna\n",
            "Successfully installed Mako-1.3.8 alembic-1.14.1 colorlog-6.9.0 optuna-4.2.0\n"
          ]
        }
      ]
    },
    {
      "cell_type": "code",
      "source": [
        "from __future__ import absolute_import, division, print_function, unicode_literals\n",
        "import os\n",
        "import sys\n",
        "import numpy as np\n",
        "import random\n",
        "import keras\n",
        "import tensorflow as tf\n",
        "from tensorflow.keras import Model\n",
        "from tensorflow.keras.layers import Dense, Flatten, Conv1D ,Dropout, MaxPooling1D ,InputLayer\n",
        "# from keras.layers.pooling import GlobalMaxPooling1D\n",
        "from tensorflow.keras.layers import GlobalMaxPooling1D\n",
        "from keras import regularizers\n",
        "import glob\n",
        "import math\n",
        "import optuna\n",
        "from tensorflow.keras import Sequential\n",
        "import gc\n",
        "\n",
        "dic_wvl = {}\n",
        "dic_wvl['Cu_Ka'] = 1.54059\n",
        "\n",
        "\n",
        "path_model = './models'\n",
        "if os.path.isdir('%s'%(path_model))==False:\n",
        "    os.mkdir('%s'%(path_model))\n",
        "\n",
        "\n",
        "##トレーニング用データ\n",
        "multiQC_data = np.load('/content/drive/MyDrive/virtual_QC/training_dodeca.npy')\n",
        "others_data = np.load('/content/drive/MyDrive/virtual_QC/training_others.npy')\n",
        "x_train, y_train = dataset_labeled(multiQC_data, others_data)\n",
        "\n",
        "##テスト用データ\n",
        "multiQC_test = np.load('/content/drive/MyDrive/virtual_QC/test_dodeca.npy')\n",
        "others_test = np.load('/content/drive/MyDrive/virtual_QC/test_others.npy')\n",
        "x_test, y_test = dataset_labeled(multiQC_test, others_test)\n",
        "\n",
        "input_=x_train.shape[1]\n",
        "# tf.keras.backend.set_floatx('float64')\n",
        "x_train = x_train[..., tf.newaxis]\n",
        "x_test = x_test[..., tf.newaxis]\n",
        "\n",
        "\n",
        "# Optunaの目的関数\n",
        "def objective(trial):\n",
        "    # ハイパーパラメータの探索範囲を定義\n",
        "    # num_conv_layers = trial.suggest_int(\"num_conv_layers\", 1, 4, step=1)  # 畳み込み層の数\n",
        "    num_conv_layers = 3\n",
        "    # conv_filters = trial.suggest_int(\"conv_filters\", 32, 128, step=32)  # 畳み込み層のフィルター数\n",
        "    conv_filters = 64\n",
        "    # kernel_size = trial.suggest_int(\"kernel_size\", 10, 50, step=10)  # 畳み込み層のフィルターサイズ\n",
        "    kernel_size = 30\n",
        "    # strides = trial.suggest_int(\"strides\", 1, 3, step=1)  # 畳み込み層のストライド\n",
        "    strides = 3\n",
        "    # pool_size = trial.suggest_int(\"pool_size\", 1, 3, step=1)  # プーリング層のプールサイズ\n",
        "    pool_size = 1\n",
        "    # pool_strides = trial.suggest_int(\"pool_strides\", 1, 3, step=1)  # プーリング層のストライド\n",
        "    pool_strides = 2\n",
        "    # num_dense_layers = trial.suggest_int(\"num_dense_layers\", 1, 3, step=1)  # 全結合層の数\n",
        "    num_dense_layers = 2\n",
        "    # dense_units = trial.suggest_int(\"dense_units\", 500, 3000, step=500)  #全結合層のニューロン数\n",
        "    dense_units = 1000\n",
        "\n",
        "    # dense_units = trial.suggest_int(\"dense_units\", 64, 256, step=32)  # 最初の全結合層のユニット数\n",
        "\n",
        "    # dropout_rate = trial.suggest_float(\"dropout_rate\", 0.0, 0.5, step=0.1)  #Dropout\n",
        "    dropout_rate = 0.5\n",
        "    # optimizer_name = trial.suggest_categorical(\"optimizer\", [\"adam\", \"sgd\", \"rmsprop\", \"adagrad\"])  #最適化アルゴリズム\n",
        "\n",
        "    optimizer_name = trial.suggest_categorical(\"optimizer\", [\"adam\", \"sgd\"])  #最適化アルゴリズム\n",
        "    # optimizer_name = \"adam\"\n",
        "\n",
        "    # learning_rate = trial.suggest_float(\"learning_rate\", 1e-4, 1e-2, log=True)  #学習率\n",
        "    learning_rate = 0.001\n",
        "    # reduction_factor = trial.suggest_float(\"reduction_factor\", 0.5, 1.0, step=0.1)  # 層ごとのユニット数の減少率\n",
        "    reduction_factor = 0.5\n",
        "    # batch_num = trial.suggest_int(\"batch_size\", 32, 256, step=32)  #パッチサイズ\n",
        "    batch_num=256\n",
        "    # epoch_num = trial.suggest_int(\"epochs\", 5, 25, step=5)  #エポック数\n",
        "    epoch_num=15\n",
        "\n",
        "    # 選択されたoptimizerを設定\n",
        "    if optimizer_name == \"adam\":\n",
        "        optimizer = tf.keras.optimizers.Adam(learning_rate=learning_rate)\n",
        "    elif optimizer_name == \"sgd\":\n",
        "        optimizer = tf.keras.optimizers.SGD(learning_rate=learning_rate)\n",
        "    # elif optimizer_name == \"rmsprop\":\n",
        "    #     optimizer = tf.keras.optimizers.RMSprop(learning_rate=learning_rate)\n",
        "    # elif optimizer_name == \"adagrad\":\n",
        "    #     optimizer = tf.keras.optimizers.Adagrad(learning_rate=learning_rate)\n",
        "\n",
        "    # モデルの構築\n",
        "    model = Sequential()\n",
        "    for i in range(num_conv_layers):  # 畳み込み層を動的に追加\n",
        "        if i == 0:\n",
        "            # 最初の畳み込み層（input_shapeを指定）\n",
        "            model.add(Conv1D(conv_filters, kernel_size=kernel_size, strides=strides, activation='relu', padding='same', kernel_regularizer=regularizers.l2(0.01)))\n",
        "        else:\n",
        "            # 2層目以降の畳み込み層\n",
        "            model.add(Conv1D(conv_filters, kernel_size=kernel_size, strides=strides, activation='relu', padding='same', kernel_regularizer=regularizers.l2(0.01)))\n",
        "        model.add(MaxPooling1D(pool_size,  strides=pool_strides, padding='valid'))\n",
        "\n",
        "    # # Flattenで入力を整形\n",
        "    model.add(Flatten())\n",
        "\n",
        "    # 全結合層を追加\n",
        "    for i in range(num_dense_layers):\n",
        "        model.add(Dense(dense_units, activation='relu', kernel_regularizer=regularizers.l2(0.01)))\n",
        "        model.add(Dropout(dropout_rate))\n",
        "        dense_units = int(dense_units * reduction_factor)  # ユニット数を減少\n",
        "\n",
        "    # 出力層\n",
        "    model.add(Dense(2, activation='sigmoid'))\n",
        "\n",
        "    # Optimizerの設定\n",
        "    optimizer = tf.keras.optimizers.Adam(learning_rate=learning_rate)\n",
        "\n",
        "    #最適化アルゴリズム, 損失関数(Sparse Categorical CrossEntropy)\n",
        "    model.compile(optimizer=optimizer, loss='sparse_categorical_crossentropy', metrics=['accuracy'])\n",
        "\n",
        "    # モデルのトレーニング\n",
        "    training_model = model.fit(x_train, y_train, epochs=epoch_num, batch_size=batch_num, validation_split=0.2)\n",
        "\n",
        "    model.evaluate(x_test, y_test, verbose=2)\n",
        "\n",
        "    # 検証データの精度を最適化対象とする\n",
        "    val_accuracy = max(training_model.history['val_accuracy'])\n",
        "\n",
        "    # GPUメモリを解放\n",
        "    tf.keras.backend.clear_session()\n",
        "    gc.collect()\n",
        "\n",
        "    return val_accuracy\n",
        "\n",
        "# Optunaのスタディを作成して最適化を実行\n",
        "study = optuna.create_study(direction=\"maximize\")  # 検証精度を最大化\n",
        "study.optimize(objective, n_trials=6)  # 試行回数を指定\n",
        "\n",
        "# 最適な結果を表示\n",
        "print(\"Best Trial:\")\n",
        "print(f\"  Accuracy: {study.best_value}\")\n",
        "print(f\"  Params: {study.best_params}\")"
      ],
      "metadata": {
        "colab": {
          "base_uri": "https://localhost:8080/"
        },
        "id": "jO-AAwPwFcBF",
        "outputId": "ada25d15-7664-40f6-ef0b-427670be7a44"
      },
      "execution_count": null,
      "outputs": [
        {
          "output_type": "stream",
          "name": "stderr",
          "text": [
            "[I 2025-01-29 08:06:36,089] A new study created in memory with name: no-name-ed3259a0-cb64-443f-b024-fead53d91e02\n"
          ]
        },
        {
          "output_type": "stream",
          "name": "stdout",
          "text": [
            "Epoch 1/15\n",
            "\u001b[1m188/188\u001b[0m \u001b[32m━━━━━━━━━━━━━━━━━━━━\u001b[0m\u001b[37m\u001b[0m \u001b[1m12s\u001b[0m 36ms/step - accuracy: 0.8785 - loss: 5.8413 - val_accuracy: 0.9639 - val_loss: 0.2172\n",
            "Epoch 2/15\n",
            "\u001b[1m188/188\u001b[0m \u001b[32m━━━━━━━━━━━━━━━━━━━━\u001b[0m\u001b[37m\u001b[0m \u001b[1m2s\u001b[0m 8ms/step - accuracy: 0.9582 - loss: 0.2206 - val_accuracy: 0.9564 - val_loss: 0.2057\n",
            "Epoch 3/15\n",
            "\u001b[1m188/188\u001b[0m \u001b[32m━━━━━━━━━━━━━━━━━━━━\u001b[0m\u001b[37m\u001b[0m \u001b[1m2s\u001b[0m 8ms/step - accuracy: 0.9616 - loss: 0.1989 - val_accuracy: 0.9712 - val_loss: 0.1799\n",
            "Epoch 4/15\n",
            "\u001b[1m188/188\u001b[0m \u001b[32m━━━━━━━━━━━━━━━━━━━━\u001b[0m\u001b[37m\u001b[0m \u001b[1m2s\u001b[0m 8ms/step - accuracy: 0.9676 - loss: 0.1800 - val_accuracy: 0.9726 - val_loss: 0.1714\n",
            "Epoch 5/15\n",
            "\u001b[1m188/188\u001b[0m \u001b[32m━━━━━━━━━━━━━━━━━━━━\u001b[0m\u001b[37m\u001b[0m \u001b[1m2s\u001b[0m 8ms/step - accuracy: 0.9674 - loss: 0.1736 - val_accuracy: 0.9693 - val_loss: 0.1631\n",
            "Epoch 6/15\n",
            "\u001b[1m188/188\u001b[0m \u001b[32m━━━━━━━━━━━━━━━━━━━━\u001b[0m\u001b[37m\u001b[0m \u001b[1m1s\u001b[0m 8ms/step - accuracy: 0.9681 - loss: 0.1726 - val_accuracy: 0.9727 - val_loss: 0.1552\n",
            "Epoch 7/15\n",
            "\u001b[1m188/188\u001b[0m \u001b[32m━━━━━━━━━━━━━━━━━━━━\u001b[0m\u001b[37m\u001b[0m \u001b[1m1s\u001b[0m 8ms/step - accuracy: 0.9690 - loss: 0.1678 - val_accuracy: 0.9729 - val_loss: 0.1631\n",
            "Epoch 8/15\n",
            "\u001b[1m188/188\u001b[0m \u001b[32m━━━━━━━━━━━━━━━━━━━━\u001b[0m\u001b[37m\u001b[0m \u001b[1m1s\u001b[0m 8ms/step - accuracy: 0.9699 - loss: 0.1635 - val_accuracy: 0.9745 - val_loss: 0.1490\n",
            "Epoch 9/15\n",
            "\u001b[1m188/188\u001b[0m \u001b[32m━━━━━━━━━━━━━━━━━━━━\u001b[0m\u001b[37m\u001b[0m \u001b[1m1s\u001b[0m 8ms/step - accuracy: 0.9702 - loss: 0.1595 - val_accuracy: 0.9739 - val_loss: 0.1507\n",
            "Epoch 10/15\n",
            "\u001b[1m188/188\u001b[0m \u001b[32m━━━━━━━━━━━━━━━━━━━━\u001b[0m\u001b[37m\u001b[0m \u001b[1m2s\u001b[0m 8ms/step - accuracy: 0.9709 - loss: 0.1565 - val_accuracy: 0.9741 - val_loss: 0.1483\n",
            "Epoch 11/15\n",
            "\u001b[1m188/188\u001b[0m \u001b[32m━━━━━━━━━━━━━━━━━━━━\u001b[0m\u001b[37m\u001b[0m \u001b[1m2s\u001b[0m 8ms/step - accuracy: 0.9713 - loss: 0.1519 - val_accuracy: 0.9732 - val_loss: 0.1518\n",
            "Epoch 12/15\n",
            "\u001b[1m188/188\u001b[0m \u001b[32m━━━━━━━━━━━━━━━━━━━━\u001b[0m\u001b[37m\u001b[0m \u001b[1m1s\u001b[0m 8ms/step - accuracy: 0.9707 - loss: 0.1548 - val_accuracy: 0.9772 - val_loss: 0.1380\n",
            "Epoch 13/15\n",
            "\u001b[1m188/188\u001b[0m \u001b[32m━━━━━━━━━━━━━━━━━━━━\u001b[0m\u001b[37m\u001b[0m \u001b[1m2s\u001b[0m 8ms/step - accuracy: 0.9737 - loss: 0.1463 - val_accuracy: 0.9728 - val_loss: 0.1455\n",
            "Epoch 14/15\n",
            "\u001b[1m188/188\u001b[0m \u001b[32m━━━━━━━━━━━━━━━━━━━━\u001b[0m\u001b[37m\u001b[0m \u001b[1m2s\u001b[0m 8ms/step - accuracy: 0.9731 - loss: 0.1474 - val_accuracy: 0.9756 - val_loss: 0.1421\n",
            "Epoch 15/15\n",
            "\u001b[1m188/188\u001b[0m \u001b[32m━━━━━━━━━━━━━━━━━━━━\u001b[0m\u001b[37m\u001b[0m \u001b[1m2s\u001b[0m 8ms/step - accuracy: 0.9739 - loss: 0.1442 - val_accuracy: 0.9762 - val_loss: 0.1374\n",
            "188/188 - 2s - 12ms/step - accuracy: 0.9738 - loss: 0.1404\n"
          ]
        },
        {
          "output_type": "stream",
          "name": "stderr",
          "text": [
            "[I 2025-01-29 08:07:15,194] Trial 0 finished with value: 0.9771666526794434 and parameters: {'optimizer': 'sgd'}. Best is trial 0 with value: 0.9771666526794434.\n"
          ]
        },
        {
          "output_type": "stream",
          "name": "stdout",
          "text": [
            "Epoch 1/15\n",
            "\u001b[1m188/188\u001b[0m \u001b[32m━━━━━━━━━━━━━━━━━━━━\u001b[0m\u001b[37m\u001b[0m \u001b[1m11s\u001b[0m 34ms/step - accuracy: 0.8501 - loss: 5.7062 - val_accuracy: 0.9647 - val_loss: 0.2155\n",
            "Epoch 2/15\n",
            "\u001b[1m188/188\u001b[0m \u001b[32m━━━━━━━━━━━━━━━━━━━━\u001b[0m\u001b[37m\u001b[0m \u001b[1m2s\u001b[0m 8ms/step - accuracy: 0.9591 - loss: 0.2089 - val_accuracy: 0.9533 - val_loss: 0.1970\n",
            "Epoch 3/15\n",
            "\u001b[1m188/188\u001b[0m \u001b[32m━━━━━━━━━━━━━━━━━━━━\u001b[0m\u001b[37m\u001b[0m \u001b[1m2s\u001b[0m 8ms/step - accuracy: 0.9643 - loss: 0.1900 - val_accuracy: 0.9718 - val_loss: 0.1720\n",
            "Epoch 4/15\n",
            "\u001b[1m188/188\u001b[0m \u001b[32m━━━━━━━━━━━━━━━━━━━━\u001b[0m\u001b[37m\u001b[0m \u001b[1m2s\u001b[0m 8ms/step - accuracy: 0.9677 - loss: 0.1788 - val_accuracy: 0.9720 - val_loss: 0.1696\n",
            "Epoch 5/15\n",
            "\u001b[1m188/188\u001b[0m \u001b[32m━━━━━━━━━━━━━━━━━━━━\u001b[0m\u001b[37m\u001b[0m \u001b[1m2s\u001b[0m 8ms/step - accuracy: 0.9668 - loss: 0.1767 - val_accuracy: 0.9701 - val_loss: 0.1793\n",
            "Epoch 6/15\n",
            "\u001b[1m188/188\u001b[0m \u001b[32m━━━━━━━━━━━━━━━━━━━━\u001b[0m\u001b[37m\u001b[0m \u001b[1m2s\u001b[0m 8ms/step - accuracy: 0.9703 - loss: 0.1654 - val_accuracy: 0.9757 - val_loss: 0.1476\n",
            "Epoch 7/15\n",
            "\u001b[1m188/188\u001b[0m \u001b[32m━━━━━━━━━━━━━━━━━━━━\u001b[0m\u001b[37m\u001b[0m \u001b[1m2s\u001b[0m 8ms/step - accuracy: 0.9741 - loss: 0.1512 - val_accuracy: 0.9770 - val_loss: 0.1464\n",
            "Epoch 8/15\n",
            "\u001b[1m188/188\u001b[0m \u001b[32m━━━━━━━━━━━━━━━━━━━━\u001b[0m\u001b[37m\u001b[0m \u001b[1m2s\u001b[0m 8ms/step - accuracy: 0.9725 - loss: 0.1578 - val_accuracy: 0.9753 - val_loss: 0.1406\n",
            "Epoch 9/15\n",
            "\u001b[1m188/188\u001b[0m \u001b[32m━━━━━━━━━━━━━━━━━━━━\u001b[0m\u001b[37m\u001b[0m \u001b[1m2s\u001b[0m 8ms/step - accuracy: 0.9767 - loss: 0.1415 - val_accuracy: 0.9702 - val_loss: 0.1635\n",
            "Epoch 10/15\n",
            "\u001b[1m188/188\u001b[0m \u001b[32m━━━━━━━━━━━━━━━━━━━━\u001b[0m\u001b[37m\u001b[0m \u001b[1m2s\u001b[0m 8ms/step - accuracy: 0.9757 - loss: 0.1426 - val_accuracy: 0.9762 - val_loss: 0.1421\n",
            "Epoch 11/15\n",
            "\u001b[1m188/188\u001b[0m \u001b[32m━━━━━━━━━━━━━━━━━━━━\u001b[0m\u001b[37m\u001b[0m \u001b[1m2s\u001b[0m 8ms/step - accuracy: 0.9755 - loss: 0.1463 - val_accuracy: 0.9804 - val_loss: 0.1292\n",
            "Epoch 12/15\n",
            "\u001b[1m188/188\u001b[0m \u001b[32m━━━━━━━━━━━━━━━━━━━━\u001b[0m\u001b[37m\u001b[0m \u001b[1m2s\u001b[0m 8ms/step - accuracy: 0.9788 - loss: 0.1346 - val_accuracy: 0.9797 - val_loss: 0.1292\n",
            "Epoch 13/15\n",
            "\u001b[1m188/188\u001b[0m \u001b[32m━━━━━━━━━━━━━━━━━━━━\u001b[0m\u001b[37m\u001b[0m \u001b[1m2s\u001b[0m 8ms/step - accuracy: 0.9778 - loss: 0.1361 - val_accuracy: 0.9810 - val_loss: 0.1251\n",
            "Epoch 14/15\n",
            "\u001b[1m188/188\u001b[0m \u001b[32m━━━━━━━━━━━━━━━━━━━━\u001b[0m\u001b[37m\u001b[0m \u001b[1m2s\u001b[0m 8ms/step - accuracy: 0.9803 - loss: 0.1316 - val_accuracy: 0.9813 - val_loss: 0.1263\n",
            "Epoch 15/15\n",
            "\u001b[1m188/188\u001b[0m \u001b[32m━━━━━━━━━━━━━━━━━━━━\u001b[0m\u001b[37m\u001b[0m \u001b[1m2s\u001b[0m 8ms/step - accuracy: 0.9784 - loss: 0.1339 - val_accuracy: 0.9807 - val_loss: 0.1252\n",
            "188/188 - 2s - 12ms/step - accuracy: 0.9807 - loss: 0.1240\n"
          ]
        },
        {
          "output_type": "stream",
          "name": "stderr",
          "text": [
            "[I 2025-01-29 08:07:53,585] Trial 1 finished with value: 0.981333315372467 and parameters: {'optimizer': 'sgd'}. Best is trial 1 with value: 0.981333315372467.\n"
          ]
        },
        {
          "output_type": "stream",
          "name": "stdout",
          "text": [
            "Epoch 1/15\n",
            "\u001b[1m188/188\u001b[0m \u001b[32m━━━━━━━━━━━━━━━━━━━━\u001b[0m\u001b[37m\u001b[0m \u001b[1m11s\u001b[0m 34ms/step - accuracy: 0.8843 - loss: 5.8608 - val_accuracy: 0.9621 - val_loss: 0.2087\n",
            "Epoch 2/15\n",
            "\u001b[1m188/188\u001b[0m \u001b[32m━━━━━━━━━━━━━━━━━━━━\u001b[0m\u001b[37m\u001b[0m \u001b[1m2s\u001b[0m 8ms/step - accuracy: 0.9585 - loss: 0.2187 - val_accuracy: 0.9672 - val_loss: 0.2060\n",
            "Epoch 3/15\n",
            "\u001b[1m188/188\u001b[0m \u001b[32m━━━━━━━━━━━━━━━━━━━━\u001b[0m\u001b[37m\u001b[0m \u001b[1m2s\u001b[0m 8ms/step - accuracy: 0.9637 - loss: 0.1905 - val_accuracy: 0.9579 - val_loss: 0.1875\n",
            "Epoch 4/15\n",
            "\u001b[1m188/188\u001b[0m \u001b[32m━━━━━━━━━━━━━━━━━━━━\u001b[0m\u001b[37m\u001b[0m \u001b[1m1s\u001b[0m 8ms/step - accuracy: 0.9638 - loss: 0.1905 - val_accuracy: 0.9688 - val_loss: 0.1632\n",
            "Epoch 5/15\n",
            "\u001b[1m188/188\u001b[0m \u001b[32m━━━━━━━━━━━━━━━━━━━━\u001b[0m\u001b[37m\u001b[0m \u001b[1m2s\u001b[0m 8ms/step - accuracy: 0.9685 - loss: 0.1757 - val_accuracy: 0.9734 - val_loss: 0.1541\n",
            "Epoch 6/15\n",
            "\u001b[1m188/188\u001b[0m \u001b[32m━━━━━━━━━━━━━━━━━━━━\u001b[0m\u001b[37m\u001b[0m \u001b[1m2s\u001b[0m 8ms/step - accuracy: 0.9707 - loss: 0.1628 - val_accuracy: 0.9743 - val_loss: 0.1542\n",
            "Epoch 7/15\n",
            "\u001b[1m188/188\u001b[0m \u001b[32m━━━━━━━━━━━━━━━━━━━━\u001b[0m\u001b[37m\u001b[0m \u001b[1m2s\u001b[0m 8ms/step - accuracy: 0.9735 - loss: 0.1521 - val_accuracy: 0.9764 - val_loss: 0.1475\n",
            "Epoch 8/15\n",
            "\u001b[1m188/188\u001b[0m \u001b[32m━━━━━━━━━━━━━━━━━━━━\u001b[0m\u001b[37m\u001b[0m \u001b[1m2s\u001b[0m 8ms/step - accuracy: 0.9739 - loss: 0.1541 - val_accuracy: 0.9768 - val_loss: 0.1393\n",
            "Epoch 9/15\n",
            "\u001b[1m188/188\u001b[0m \u001b[32m━━━━━━━━━━━━━━━━━━━━\u001b[0m\u001b[37m\u001b[0m \u001b[1m2s\u001b[0m 8ms/step - accuracy: 0.9743 - loss: 0.1530 - val_accuracy: 0.9792 - val_loss: 0.1374\n",
            "Epoch 10/15\n",
            "\u001b[1m188/188\u001b[0m \u001b[32m━━━━━━━━━━━━━━━━━━━━\u001b[0m\u001b[37m\u001b[0m \u001b[1m2s\u001b[0m 8ms/step - accuracy: 0.9768 - loss: 0.1444 - val_accuracy: 0.9811 - val_loss: 0.1310\n",
            "Epoch 11/15\n",
            "\u001b[1m188/188\u001b[0m \u001b[32m━━━━━━━━━━━━━━━━━━━━\u001b[0m\u001b[37m\u001b[0m \u001b[1m2s\u001b[0m 8ms/step - accuracy: 0.9781 - loss: 0.1406 - val_accuracy: 0.9813 - val_loss: 0.1273\n",
            "Epoch 12/15\n",
            "\u001b[1m188/188\u001b[0m \u001b[32m━━━━━━━━━━━━━━━━━━━━\u001b[0m\u001b[37m\u001b[0m \u001b[1m2s\u001b[0m 8ms/step - accuracy: 0.9764 - loss: 0.1402 - val_accuracy: 0.9793 - val_loss: 0.1303\n",
            "Epoch 13/15\n",
            "\u001b[1m188/188\u001b[0m \u001b[32m━━━━━━━━━━━━━━━━━━━━\u001b[0m\u001b[37m\u001b[0m \u001b[1m2s\u001b[0m 8ms/step - accuracy: 0.9778 - loss: 0.1387 - val_accuracy: 0.9821 - val_loss: 0.1254\n",
            "Epoch 14/15\n",
            "\u001b[1m188/188\u001b[0m \u001b[32m━━━━━━━━━━━━━━━━━━━━\u001b[0m\u001b[37m\u001b[0m \u001b[1m2s\u001b[0m 8ms/step - accuracy: 0.9777 - loss: 0.1379 - val_accuracy: 0.9796 - val_loss: 0.1283\n",
            "Epoch 15/15\n",
            "\u001b[1m188/188\u001b[0m \u001b[32m━━━━━━━━━━━━━━━━━━━━\u001b[0m\u001b[37m\u001b[0m \u001b[1m1s\u001b[0m 8ms/step - accuracy: 0.9788 - loss: 0.1336 - val_accuracy: 0.9818 - val_loss: 0.1228\n",
            "188/188 - 2s - 12ms/step - accuracy: 0.9803 - loss: 0.1247\n"
          ]
        },
        {
          "output_type": "stream",
          "name": "stderr",
          "text": [
            "[I 2025-01-29 08:08:31,878] Trial 2 finished with value: 0.9820833206176758 and parameters: {'optimizer': 'adam'}. Best is trial 2 with value: 0.9820833206176758.\n"
          ]
        },
        {
          "output_type": "stream",
          "name": "stdout",
          "text": [
            "Epoch 1/15\n",
            "\u001b[1m188/188\u001b[0m \u001b[32m━━━━━━━━━━━━━━━━━━━━\u001b[0m\u001b[37m\u001b[0m \u001b[1m11s\u001b[0m 34ms/step - accuracy: 0.8747 - loss: 5.6791 - val_accuracy: 0.9588 - val_loss: 0.2033\n",
            "Epoch 2/15\n",
            "\u001b[1m188/188\u001b[0m \u001b[32m━━━━━━━━━━━━━━━━━━━━\u001b[0m\u001b[37m\u001b[0m \u001b[1m2s\u001b[0m 8ms/step - accuracy: 0.9596 - loss: 0.2076 - val_accuracy: 0.9696 - val_loss: 0.1843\n",
            "Epoch 3/15\n",
            "\u001b[1m188/188\u001b[0m \u001b[32m━━━━━━━━━━━━━━━━━━━━\u001b[0m\u001b[37m\u001b[0m \u001b[1m2s\u001b[0m 8ms/step - accuracy: 0.9647 - loss: 0.1881 - val_accuracy: 0.9722 - val_loss: 0.1710\n",
            "Epoch 4/15\n",
            "\u001b[1m188/188\u001b[0m \u001b[32m━━━━━━━━━━━━━━━━━━━━\u001b[0m\u001b[37m\u001b[0m \u001b[1m2s\u001b[0m 8ms/step - accuracy: 0.9669 - loss: 0.1780 - val_accuracy: 0.9741 - val_loss: 0.1613\n",
            "Epoch 5/15\n",
            "\u001b[1m188/188\u001b[0m \u001b[32m━━━━━━━━━━━━━━━━━━━━\u001b[0m\u001b[37m\u001b[0m \u001b[1m2s\u001b[0m 8ms/step - accuracy: 0.9716 - loss: 0.1643 - val_accuracy: 0.9728 - val_loss: 0.1631\n",
            "Epoch 6/15\n",
            "\u001b[1m188/188\u001b[0m \u001b[32m━━━━━━━━━━━━━━━━━━━━\u001b[0m\u001b[37m\u001b[0m \u001b[1m2s\u001b[0m 8ms/step - accuracy: 0.9720 - loss: 0.1588 - val_accuracy: 0.9771 - val_loss: 0.1523\n",
            "Epoch 7/15\n",
            "\u001b[1m188/188\u001b[0m \u001b[32m━━━━━━━━━━━━━━━━━━━━\u001b[0m\u001b[37m\u001b[0m \u001b[1m2s\u001b[0m 8ms/step - accuracy: 0.9737 - loss: 0.1593 - val_accuracy: 0.9764 - val_loss: 0.1468\n",
            "Epoch 8/15\n",
            "\u001b[1m188/188\u001b[0m \u001b[32m━━━━━━━━━━━━━━━━━━━━\u001b[0m\u001b[37m\u001b[0m \u001b[1m2s\u001b[0m 8ms/step - accuracy: 0.9757 - loss: 0.1500 - val_accuracy: 0.9794 - val_loss: 0.1390\n",
            "Epoch 9/15\n",
            "\u001b[1m188/188\u001b[0m \u001b[32m━━━━━━━━━━━━━━━━━━━━\u001b[0m\u001b[37m\u001b[0m \u001b[1m2s\u001b[0m 8ms/step - accuracy: 0.9763 - loss: 0.1467 - val_accuracy: 0.9801 - val_loss: 0.1320\n",
            "Epoch 10/15\n",
            "\u001b[1m188/188\u001b[0m \u001b[32m━━━━━━━━━━━━━━━━━━━━\u001b[0m\u001b[37m\u001b[0m \u001b[1m2s\u001b[0m 8ms/step - accuracy: 0.9754 - loss: 0.1455 - val_accuracy: 0.9798 - val_loss: 0.1324\n",
            "Epoch 11/15\n",
            "\u001b[1m188/188\u001b[0m \u001b[32m━━━━━━━━━━━━━━━━━━━━\u001b[0m\u001b[37m\u001b[0m \u001b[1m2s\u001b[0m 8ms/step - accuracy: 0.9769 - loss: 0.1400 - val_accuracy: 0.9801 - val_loss: 0.1312\n",
            "Epoch 12/15\n",
            "\u001b[1m188/188\u001b[0m \u001b[32m━━━━━━━━━━━━━━━━━━━━\u001b[0m\u001b[37m\u001b[0m \u001b[1m2s\u001b[0m 8ms/step - accuracy: 0.9777 - loss: 0.1394 - val_accuracy: 0.9778 - val_loss: 0.1398\n",
            "Epoch 13/15\n",
            "\u001b[1m188/188\u001b[0m \u001b[32m━━━━━━━━━━━━━━━━━━━━\u001b[0m\u001b[37m\u001b[0m \u001b[1m2s\u001b[0m 8ms/step - accuracy: 0.9784 - loss: 0.1340 - val_accuracy: 0.9754 - val_loss: 0.1413\n",
            "Epoch 14/15\n",
            "\u001b[1m188/188\u001b[0m \u001b[32m━━━━━━━━━━━━━━━━━━━━\u001b[0m\u001b[37m\u001b[0m \u001b[1m2s\u001b[0m 8ms/step - accuracy: 0.9774 - loss: 0.1386 - val_accuracy: 0.9721 - val_loss: 0.1431\n",
            "Epoch 15/15\n",
            "\u001b[1m188/188\u001b[0m \u001b[32m━━━━━━━━━━━━━━━━━━━━\u001b[0m\u001b[37m\u001b[0m \u001b[1m2s\u001b[0m 8ms/step - accuracy: 0.9783 - loss: 0.1327 - val_accuracy: 0.9811 - val_loss: 0.1274\n",
            "188/188 - 2s - 13ms/step - accuracy: 0.9815 - loss: 0.1285\n"
          ]
        },
        {
          "output_type": "stream",
          "name": "stderr",
          "text": [
            "[I 2025-01-29 08:09:10,258] Trial 3 finished with value: 0.981083333492279 and parameters: {'optimizer': 'sgd'}. Best is trial 2 with value: 0.9820833206176758.\n"
          ]
        },
        {
          "output_type": "stream",
          "name": "stdout",
          "text": [
            "Epoch 1/15\n",
            "\u001b[1m188/188\u001b[0m \u001b[32m━━━━━━━━━━━━━━━━━━━━\u001b[0m\u001b[37m\u001b[0m \u001b[1m11s\u001b[0m 34ms/step - accuracy: 0.8682 - loss: 5.6774 - val_accuracy: 0.9586 - val_loss: 0.2438\n",
            "Epoch 2/15\n",
            "\u001b[1m188/188\u001b[0m \u001b[32m━━━━━━━━━━━━━━━━━━━━\u001b[0m\u001b[37m\u001b[0m \u001b[1m2s\u001b[0m 8ms/step - accuracy: 0.9600 - loss: 0.2103 - val_accuracy: 0.9697 - val_loss: 0.1809\n",
            "Epoch 3/15\n",
            "\u001b[1m188/188\u001b[0m \u001b[32m━━━━━━━━━━━━━━━━━━━━\u001b[0m\u001b[37m\u001b[0m \u001b[1m1s\u001b[0m 8ms/step - accuracy: 0.9643 - loss: 0.1885 - val_accuracy: 0.9713 - val_loss: 0.1686\n",
            "Epoch 4/15\n",
            "\u001b[1m188/188\u001b[0m \u001b[32m━━━━━━━━━━━━━━━━━━━━\u001b[0m\u001b[37m\u001b[0m \u001b[1m2s\u001b[0m 8ms/step - accuracy: 0.9665 - loss: 0.1806 - val_accuracy: 0.9560 - val_loss: 0.1879\n",
            "Epoch 5/15\n",
            "\u001b[1m188/188\u001b[0m \u001b[32m━━━━━━━━━━━━━━━━━━━━\u001b[0m\u001b[37m\u001b[0m \u001b[1m2s\u001b[0m 8ms/step - accuracy: 0.9681 - loss: 0.1705 - val_accuracy: 0.9722 - val_loss: 0.1662\n",
            "Epoch 6/15\n",
            "\u001b[1m188/188\u001b[0m \u001b[32m━━━━━━━━━━━━━━━━━━━━\u001b[0m\u001b[37m\u001b[0m \u001b[1m2s\u001b[0m 8ms/step - accuracy: 0.9698 - loss: 0.1638 - val_accuracy: 0.9731 - val_loss: 0.1561\n",
            "Epoch 7/15\n",
            "\u001b[1m188/188\u001b[0m \u001b[32m━━━━━━━━━━━━━━━━━━━━\u001b[0m\u001b[37m\u001b[0m \u001b[1m2s\u001b[0m 8ms/step - accuracy: 0.9702 - loss: 0.1612 - val_accuracy: 0.9710 - val_loss: 0.1490\n",
            "Epoch 8/15\n",
            "\u001b[1m188/188\u001b[0m \u001b[32m━━━━━━━━━━━━━━━━━━━━\u001b[0m\u001b[37m\u001b[0m \u001b[1m2s\u001b[0m 8ms/step - accuracy: 0.9701 - loss: 0.1600 - val_accuracy: 0.9730 - val_loss: 0.1479\n",
            "Epoch 9/15\n",
            "\u001b[1m188/188\u001b[0m \u001b[32m━━━━━━━━━━━━━━━━━━━━\u001b[0m\u001b[37m\u001b[0m \u001b[1m2s\u001b[0m 8ms/step - accuracy: 0.9728 - loss: 0.1522 - val_accuracy: 0.9695 - val_loss: 0.1530\n",
            "Epoch 10/15\n",
            "\u001b[1m188/188\u001b[0m \u001b[32m━━━━━━━━━━━━━━━━━━━━\u001b[0m\u001b[37m\u001b[0m \u001b[1m2s\u001b[0m 8ms/step - accuracy: 0.9726 - loss: 0.1491 - val_accuracy: 0.9750 - val_loss: 0.1437\n",
            "Epoch 11/15\n",
            "\u001b[1m188/188\u001b[0m \u001b[32m━━━━━━━━━━━━━━━━━━━━\u001b[0m\u001b[37m\u001b[0m \u001b[1m2s\u001b[0m 8ms/step - accuracy: 0.9740 - loss: 0.1461 - val_accuracy: 0.9783 - val_loss: 0.1321\n",
            "Epoch 12/15\n",
            "\u001b[1m188/188\u001b[0m \u001b[32m━━━━━━━━━━━━━━━━━━━━\u001b[0m\u001b[37m\u001b[0m \u001b[1m2s\u001b[0m 8ms/step - accuracy: 0.9778 - loss: 0.1357 - val_accuracy: 0.9790 - val_loss: 0.1306\n",
            "Epoch 13/15\n",
            "\u001b[1m188/188\u001b[0m \u001b[32m━━━━━━━━━━━━━━━━━━━━\u001b[0m\u001b[37m\u001b[0m \u001b[1m2s\u001b[0m 8ms/step - accuracy: 0.9777 - loss: 0.1373 - val_accuracy: 0.9783 - val_loss: 0.1347\n",
            "Epoch 14/15\n",
            "\u001b[1m188/188\u001b[0m \u001b[32m━━━━━━━━━━━━━━━━━━━━\u001b[0m\u001b[37m\u001b[0m \u001b[1m2s\u001b[0m 8ms/step - accuracy: 0.9767 - loss: 0.1391 - val_accuracy: 0.9789 - val_loss: 0.1265\n",
            "Epoch 15/15\n",
            "\u001b[1m188/188\u001b[0m \u001b[32m━━━━━━━━━━━━━━━━━━━━\u001b[0m\u001b[37m\u001b[0m \u001b[1m2s\u001b[0m 8ms/step - accuracy: 0.9780 - loss: 0.1325 - val_accuracy: 0.9803 - val_loss: 0.1225\n",
            "188/188 - 2s - 12ms/step - accuracy: 0.9822 - loss: 0.1236\n"
          ]
        },
        {
          "output_type": "stream",
          "name": "stderr",
          "text": [
            "[I 2025-01-29 08:09:48,503] Trial 4 finished with value: 0.9803333282470703 and parameters: {'optimizer': 'sgd'}. Best is trial 2 with value: 0.9820833206176758.\n"
          ]
        },
        {
          "output_type": "stream",
          "name": "stdout",
          "text": [
            "Epoch 1/15\n",
            "\u001b[1m188/188\u001b[0m \u001b[32m━━━━━━━━━━━━━━━━━━━━\u001b[0m\u001b[37m\u001b[0m \u001b[1m11s\u001b[0m 34ms/step - accuracy: 0.8659 - loss: 5.8112 - val_accuracy: 0.9624 - val_loss: 0.2161\n",
            "Epoch 2/15\n",
            "\u001b[1m188/188\u001b[0m \u001b[32m━━━━━━━━━━━━━━━━━━━━\u001b[0m\u001b[37m\u001b[0m \u001b[1m2s\u001b[0m 8ms/step - accuracy: 0.9588 - loss: 0.2136 - val_accuracy: 0.9639 - val_loss: 0.1888\n",
            "Epoch 3/15\n",
            "\u001b[1m188/188\u001b[0m \u001b[32m━━━━━━━━━━━━━━━━━━━━\u001b[0m\u001b[37m\u001b[0m \u001b[1m2s\u001b[0m 8ms/step - accuracy: 0.9665 - loss: 0.1887 - val_accuracy: 0.9705 - val_loss: 0.1792\n",
            "Epoch 4/15\n",
            "\u001b[1m188/188\u001b[0m \u001b[32m━━━━━━━━━━━━━━━━━━━━\u001b[0m\u001b[37m\u001b[0m \u001b[1m1s\u001b[0m 8ms/step - accuracy: 0.9661 - loss: 0.1839 - val_accuracy: 0.9720 - val_loss: 0.1672\n",
            "Epoch 5/15\n",
            "\u001b[1m188/188\u001b[0m \u001b[32m━━━━━━━━━━━━━━━━━━━━\u001b[0m\u001b[37m\u001b[0m \u001b[1m2s\u001b[0m 8ms/step - accuracy: 0.9681 - loss: 0.1731 - val_accuracy: 0.9713 - val_loss: 0.1688\n",
            "Epoch 6/15\n",
            "\u001b[1m188/188\u001b[0m \u001b[32m━━━━━━━━━━━━━━━━━━━━\u001b[0m\u001b[37m\u001b[0m \u001b[1m2s\u001b[0m 8ms/step - accuracy: 0.9681 - loss: 0.1732 - val_accuracy: 0.9708 - val_loss: 0.1548\n",
            "Epoch 7/15\n",
            "\u001b[1m188/188\u001b[0m \u001b[32m━━━━━━━━━━━━━━━━━━━━\u001b[0m\u001b[37m\u001b[0m \u001b[1m2s\u001b[0m 8ms/step - accuracy: 0.9693 - loss: 0.1625 - val_accuracy: 0.9734 - val_loss: 0.1517\n",
            "Epoch 8/15\n",
            "\u001b[1m188/188\u001b[0m \u001b[32m━━━━━━━━━━━━━━━━━━━━\u001b[0m\u001b[37m\u001b[0m \u001b[1m2s\u001b[0m 8ms/step - accuracy: 0.9691 - loss: 0.1641 - val_accuracy: 0.9717 - val_loss: 0.1606\n",
            "Epoch 9/15\n",
            "\u001b[1m188/188\u001b[0m \u001b[32m━━━━━━━━━━━━━━━━━━━━\u001b[0m\u001b[37m\u001b[0m \u001b[1m2s\u001b[0m 8ms/step - accuracy: 0.9709 - loss: 0.1586 - val_accuracy: 0.9760 - val_loss: 0.1505\n",
            "Epoch 10/15\n",
            "\u001b[1m188/188\u001b[0m \u001b[32m━━━━━━━━━━━━━━━━━━━━\u001b[0m\u001b[37m\u001b[0m \u001b[1m2s\u001b[0m 8ms/step - accuracy: 0.9707 - loss: 0.1582 - val_accuracy: 0.9759 - val_loss: 0.1475\n",
            "Epoch 11/15\n",
            "\u001b[1m188/188\u001b[0m \u001b[32m━━━━━━━━━━━━━━━━━━━━\u001b[0m\u001b[37m\u001b[0m \u001b[1m2s\u001b[0m 8ms/step - accuracy: 0.9722 - loss: 0.1544 - val_accuracy: 0.9733 - val_loss: 0.1403\n",
            "Epoch 12/15\n",
            "\u001b[1m188/188\u001b[0m \u001b[32m━━━━━━━━━━━━━━━━━━━━\u001b[0m\u001b[37m\u001b[0m \u001b[1m2s\u001b[0m 8ms/step - accuracy: 0.9718 - loss: 0.1493 - val_accuracy: 0.9676 - val_loss: 0.1686\n",
            "Epoch 13/15\n",
            "\u001b[1m188/188\u001b[0m \u001b[32m━━━━━━━━━━━━━━━━━━━━\u001b[0m\u001b[37m\u001b[0m \u001b[1m2s\u001b[0m 8ms/step - accuracy: 0.9728 - loss: 0.1474 - val_accuracy: 0.9696 - val_loss: 0.1501\n",
            "Epoch 14/15\n",
            "\u001b[1m188/188\u001b[0m \u001b[32m━━━━━━━━━━━━━━━━━━━━\u001b[0m\u001b[37m\u001b[0m \u001b[1m2s\u001b[0m 8ms/step - accuracy: 0.9724 - loss: 0.1466 - val_accuracy: 0.9775 - val_loss: 0.1339\n",
            "Epoch 15/15\n",
            "\u001b[1m188/188\u001b[0m \u001b[32m━━━━━━━━━━━━━━━━━━━━\u001b[0m\u001b[37m\u001b[0m \u001b[1m2s\u001b[0m 8ms/step - accuracy: 0.9743 - loss: 0.1429 - val_accuracy: 0.9747 - val_loss: 0.1414\n",
            "188/188 - 2s - 12ms/step - accuracy: 0.9722 - loss: 0.1415\n"
          ]
        },
        {
          "output_type": "stream",
          "name": "stderr",
          "text": [
            "[I 2025-01-29 08:10:26,827] Trial 5 finished with value: 0.9775000214576721 and parameters: {'optimizer': 'sgd'}. Best is trial 2 with value: 0.9820833206176758.\n"
          ]
        },
        {
          "output_type": "stream",
          "name": "stdout",
          "text": [
            "Best Trial:\n",
            "  Accuracy: 0.9820833206176758\n",
            "  Params: {'optimizer': 'adam'}\n"
          ]
        }
      ]
    },
    {
      "cell_type": "code",
      "source": [
        "from __future__ import absolute_import, division, print_function, unicode_literals\n",
        "import os\n",
        "import sys\n",
        "import numpy as np\n",
        "import random\n",
        "import keras\n",
        "import tensorflow as tf\n",
        "from tensorflow.keras import Model\n",
        "from tensorflow.keras.layers import Dense, Flatten, Conv1D ,Dropout, MaxPooling1D ,InputLayer\n",
        "# from keras.layers.pooling import GlobalMaxPooling1D\n",
        "from tensorflow.keras.layers import GlobalMaxPooling1D\n",
        "from keras import regularizers\n",
        "import glob\n",
        "import math\n",
        "# import generator as gen\n",
        "\n",
        "dic_wvl = {}\n",
        "dic_wvl['Cu_Ka'] = 1.54059\n",
        "\n",
        "\n",
        "path_model = './models'\n",
        "if os.path.isdir('%s'%(path_model))==False:\n",
        "    os.mkdir('%s'%(path_model))\n",
        "\n",
        "\n",
        "\n",
        "num_all = 1\n",
        "for i in range(num_all):\n",
        "\n",
        "\n",
        "    ##トレーニング用データ\n",
        "    multiQC_data = np.load('/content/drive/MyDrive/virtual_QC/training_dodeca.npy')\n",
        "    others_data = np.load('/content/drive/MyDrive/virtual_QC/training_others.npy')\n",
        "    x_train, y_train = dataset_labeled(multiQC_data, others_data)\n",
        "\n",
        "    ##テスト用データ\n",
        "    multiQC_test = np.load('/content/drive/MyDrive/virtual_QC/test_dodeca.npy')\n",
        "    others_test = np.load('/content/drive/MyDrive/virtual_QC/test_others.npy')\n",
        "    x_test, y_test = dataset_labeled(multiQC_test, others_test)\n",
        "\n",
        "    input_=x_train.shape[1]\n",
        "    # tf.keras.backend.set_floatx('float64')\n",
        "    x_train = x_train[..., tf.newaxis]\n",
        "    x_test = x_test[..., tf.newaxis]\n",
        "\n",
        "    ##ベイズ最適化を行ったDNNモデル\n",
        "    class MyModel(Model):\n",
        "        def __init__(self):\n",
        "            super(MyModel, self).__init__()\n",
        "\n",
        "            ##Conv(畳み込み層) MaxPooling(プーリング層)\n",
        "            #畳み込み層1\n",
        "            self.conv1 = Conv1D(64,20, strides=1, activation='relu', padding='same', kernel_regularizer=regularizers.l2(0.01))\n",
        "            #プーリング層1\n",
        "            self.mp1 = MaxPooling1D(3,  strides=3, padding='valid')\n",
        "            #以下同様\n",
        "            self.conv2 = Conv1D(64,20, strides=1, activation='relu', padding='same', kernel_regularizer=regularizers.l2(0.01))\n",
        "            self.mp2 = MaxPooling1D(2,  strides=3, padding='valid')\n",
        "            self.conv3 = Conv1D(64,20, strides=2, activation='relu', padding='same', kernel_regularizer=regularizers.l2(0.01))\n",
        "            self.mp3 = MaxPooling1D(1,  strides=2, padding='valid')\n",
        "            # Flattenレイヤーを使って1次元に変換 (1次元化:21376)\n",
        "            self.flatten = Flatten()\n",
        "            #全結合層1\n",
        "            self.d1 = Dense(2000, activation='relu', kernel_regularizer=regularizers.l2(0.01))\n",
        "            self.do1 = Dropout(0.5)\n",
        "            #全結合層2\n",
        "            self.d2 = Dense(1000, activation='relu', kernel_regularizer=regularizers.l2(0.01))\n",
        "            self.do2 = Dropout(0.5)\n",
        "            #出力\n",
        "            self.ds = Dense(2, activation='softmax')\n",
        "\n",
        "        def call(self, x):\n",
        "            x = self.conv1(x)\n",
        "            print(x.shape)\n",
        "            x = self.mp1(x)\n",
        "            print(x.shape)\n",
        "            x = self.conv2(x)\n",
        "            print(x.shape)\n",
        "            x = self.mp2(x)\n",
        "            print(x.shape)\n",
        "            x = self.conv3(x)\n",
        "            print(x.shape)\n",
        "            x = self.mp3(x)\n",
        "            x = self.flatten(x)\n",
        "            print(x.shape)\n",
        "            x = self.d1(x)\n",
        "            x = self.do1(x)\n",
        "            x = self.d2(x)\n",
        "            x = self.do2(x)\n",
        "            y = self.ds(x)\n",
        "            return y\n",
        "\n",
        "    #定義したDNNモデル\n",
        "    model = MyModel()\n",
        "    #エポック数\n",
        "    epoch_num=13\n",
        "    #バッチサイズ\n",
        "    batch_num=128\n",
        "\n",
        "    optimizer = tf.keras.optimizers.Adam(learning_rate=0.001)\n",
        "\n",
        "\n",
        "    #最適化アルゴリズム(Adam), 損失関数(Sparse Categorical CrossEntropy)\n",
        "    model.compile(optimizer='adam',\n",
        "              loss='sparse_categorical_crossentropy',\n",
        "              metrics=['accuracy'])\n",
        "\n",
        "    training_model = model.fit(x_train, y_train, epochs=epoch_num, batch_size=batch_num, validation_split=0.2)\n",
        "    model.evaluate(x_test, y_test, verbose=2)\n",
        "\n",
        "    model_name='test_model'\n",
        "    model.export('%s/'%(path_model)+model_name)\n",
        "    model.save('%s/my_model.h5'%(path_model))\n"
      ],
      "metadata": {
        "colab": {
          "base_uri": "https://localhost:8080/"
        },
        "id": "NA_wFSKoSaiv",
        "outputId": "96c231b4-e01e-4b86-ed30-2fa0f0bf7f0c"
      },
      "execution_count": null,
      "outputs": [
        {
          "output_type": "stream",
          "name": "stdout",
          "text": [
            "Epoch 1/13\n",
            "(128, 6000, 64)\n",
            "(128, 2000, 64)\n",
            "(128, 2000, 64)\n",
            "(128, 667, 64)\n",
            "(128, 334, 64)\n",
            "(128, 10688)\n",
            "(128, 6000, 64)\n",
            "(128, 2000, 64)\n",
            "(128, 2000, 64)\n",
            "(128, 667, 64)\n",
            "(128, 334, 64)\n",
            "(128, 10688)\n",
            "(128, 6000, 64)\n",
            "(128, 2000, 64)\n",
            "(128, 2000, 64)\n",
            "(128, 667, 64)\n",
            "(128, 334, 64)\n",
            "(128, 10688)\n",
            "\u001b[1m373/375\u001b[0m \u001b[32m━━━━━━━━━━━━━━━━━━━\u001b[0m\u001b[37m━\u001b[0m \u001b[1m0s\u001b[0m 20ms/step - accuracy: 0.9038 - loss: 5.4255(None, 6000, 64)\n",
            "(None, 2000, 64)\n",
            "(None, 2000, 64)\n",
            "(None, 667, 64)\n",
            "(None, 334, 64)\n",
            "(None, 10688)\n",
            "\u001b[1m375/375\u001b[0m \u001b[32m━━━━━━━━━━━━━━━━━━━━\u001b[0m\u001b[37m\u001b[0m \u001b[1m14s\u001b[0m 26ms/step - accuracy: 0.9040 - loss: 5.3941 - val_accuracy: 0.9569 - val_loss: 0.2079\n",
            "Epoch 2/13\n",
            "\u001b[1m375/375\u001b[0m \u001b[32m━━━━━━━━━━━━━━━━━━━━\u001b[0m\u001b[37m\u001b[0m \u001b[1m8s\u001b[0m 21ms/step - accuracy: 0.9637 - loss: 0.1930 - val_accuracy: 0.9697 - val_loss: 0.1665\n",
            "Epoch 3/13\n",
            "\u001b[1m375/375\u001b[0m \u001b[32m━━━━━━━━━━━━━━━━━━━━\u001b[0m\u001b[37m\u001b[0m \u001b[1m8s\u001b[0m 21ms/step - accuracy: 0.9678 - loss: 0.1678 - val_accuracy: 0.9721 - val_loss: 0.1476\n",
            "Epoch 4/13\n",
            "\u001b[1m375/375\u001b[0m \u001b[32m━━━━━━━━━━━━━━━━━━━━\u001b[0m\u001b[37m\u001b[0m \u001b[1m8s\u001b[0m 21ms/step - accuracy: 0.9712 - loss: 0.1483 - val_accuracy: 0.9758 - val_loss: 0.1363\n",
            "Epoch 5/13\n",
            "\u001b[1m375/375\u001b[0m \u001b[32m━━━━━━━━━━━━━━━━━━━━\u001b[0m\u001b[37m\u001b[0m \u001b[1m8s\u001b[0m 21ms/step - accuracy: 0.9751 - loss: 0.1348 - val_accuracy: 0.9781 - val_loss: 0.1311\n",
            "Epoch 6/13\n",
            "\u001b[1m375/375\u001b[0m \u001b[32m━━━━━━━━━━━━━━━━━━━━\u001b[0m\u001b[37m\u001b[0m \u001b[1m8s\u001b[0m 21ms/step - accuracy: 0.9758 - loss: 0.1282 - val_accuracy: 0.9790 - val_loss: 0.1220\n",
            "Epoch 7/13\n",
            "\u001b[1m375/375\u001b[0m \u001b[32m━━━━━━━━━━━━━━━━━━━━\u001b[0m\u001b[37m\u001b[0m \u001b[1m8s\u001b[0m 21ms/step - accuracy: 0.9783 - loss: 0.1202 - val_accuracy: 0.9795 - val_loss: 0.1175\n",
            "Epoch 8/13\n",
            "\u001b[1m375/375\u001b[0m \u001b[32m━━━━━━━━━━━━━━━━━━━━\u001b[0m\u001b[37m\u001b[0m \u001b[1m8s\u001b[0m 21ms/step - accuracy: 0.9785 - loss: 0.1187 - val_accuracy: 0.9791 - val_loss: 0.1196\n",
            "Epoch 9/13\n",
            "\u001b[1m375/375\u001b[0m \u001b[32m━━━━━━━━━━━━━━━━━━━━\u001b[0m\u001b[37m\u001b[0m \u001b[1m8s\u001b[0m 21ms/step - accuracy: 0.9803 - loss: 0.1139 - val_accuracy: 0.9785 - val_loss: 0.1198\n",
            "Epoch 10/13\n",
            "\u001b[1m375/375\u001b[0m \u001b[32m━━━━━━━━━━━━━━━━━━━━\u001b[0m\u001b[37m\u001b[0m \u001b[1m8s\u001b[0m 21ms/step - accuracy: 0.9812 - loss: 0.1117 - val_accuracy: 0.9824 - val_loss: 0.1102\n",
            "Epoch 11/13\n",
            "\u001b[1m375/375\u001b[0m \u001b[32m━━━━━━━━━━━━━━━━━━━━\u001b[0m\u001b[37m\u001b[0m \u001b[1m8s\u001b[0m 21ms/step - accuracy: 0.9809 - loss: 0.1094 - val_accuracy: 0.9813 - val_loss: 0.1094\n",
            "Epoch 12/13\n",
            "\u001b[1m375/375\u001b[0m \u001b[32m━━━━━━━━━━━━━━━━━━━━\u001b[0m\u001b[37m\u001b[0m \u001b[1m8s\u001b[0m 21ms/step - accuracy: 0.9817 - loss: 0.1064 - val_accuracy: 0.9745 - val_loss: 0.1232\n",
            "Epoch 13/13\n",
            "\u001b[1m375/375\u001b[0m \u001b[32m━━━━━━━━━━━━━━━━━━━━\u001b[0m\u001b[37m\u001b[0m \u001b[1m8s\u001b[0m 21ms/step - accuracy: 0.9811 - loss: 0.1080 - val_accuracy: 0.9815 - val_loss: 0.1075\n",
            "188/188 - 1s - 8ms/step - accuracy: 0.9812 - loss: 0.1029\n",
            "(None, 6000, 64)\n",
            "(None, 2000, 64)\n",
            "(None, 2000, 64)\n",
            "(None, 667, 64)\n",
            "(None, 334, 64)\n",
            "(None, 10688)\n",
            "(None, 6000, 64)\n",
            "(None, 2000, 64)\n",
            "(None, 2000, 64)\n",
            "(None, 667, 64)\n",
            "(None, 334, 64)\n",
            "(None, 10688)\n",
            "Saved artifact at './models/test_model'. The following endpoints are available:\n",
            "\n",
            "* Endpoint 'serve'\n",
            "  args_0 (POSITIONAL_ONLY): TensorSpec(shape=(None, 6000, 1), dtype=tf.float32, name=None)\n",
            "Output Type:\n",
            "  TensorSpec(shape=(None, 2), dtype=tf.float32, name=None)\n",
            "Captures:\n",
            "  136751851113552: TensorSpec(shape=(), dtype=tf.resource, name=None)\n",
            "  136751851124688: TensorSpec(shape=(), dtype=tf.resource, name=None)\n",
            "  136751851119504: TensorSpec(shape=(), dtype=tf.resource, name=None)\n",
            "  136751851118352: TensorSpec(shape=(), dtype=tf.resource, name=None)\n",
            "  136751851112592: TensorSpec(shape=(), dtype=tf.resource, name=None)\n",
            "  136751851111056: TensorSpec(shape=(), dtype=tf.resource, name=None)\n",
            "  136751851126416: TensorSpec(shape=(), dtype=tf.resource, name=None)\n",
            "  136751851114896: TensorSpec(shape=(), dtype=tf.resource, name=None)\n",
            "  136751851118736: TensorSpec(shape=(), dtype=tf.resource, name=None)\n",
            "  136751851125264: TensorSpec(shape=(), dtype=tf.resource, name=None)\n",
            "  136751851110672: TensorSpec(shape=(), dtype=tf.resource, name=None)\n",
            "  136751851111440: TensorSpec(shape=(), dtype=tf.resource, name=None)\n"
          ]
        },
        {
          "output_type": "stream",
          "name": "stderr",
          "text": [
            "WARNING:absl:You are saving your model as an HDF5 file via `model.save()` or `keras.saving.save_model(model)`. This file format is considered legacy. We recommend using instead the native Keras format, e.g. `model.save('my_model.keras')` or `keras.saving.save_model(model, 'my_model.keras')`. \n"
          ]
        }
      ]
    },
    {
      "cell_type": "code",
      "source": [
        "model.evaluate(x_test, y_test, verbose=2)"
      ],
      "metadata": {
        "id": "97zH5HG9BPxR",
        "colab": {
          "base_uri": "https://localhost:8080/"
        },
        "outputId": "6422b704-2696-4728-93d1-8b864ab2c8c7"
      },
      "execution_count": null,
      "outputs": [
        {
          "output_type": "stream",
          "name": "stdout",
          "text": [
            "188/188 - 1s - 3ms/step - accuracy: 0.9812 - loss: 0.1029\n"
          ]
        },
        {
          "output_type": "execute_result",
          "data": {
            "text/plain": [
              "[0.10290377587080002, 0.981166660785675]"
            ]
          },
          "metadata": {},
          "execution_count": 53
        }
      ]
    },
    {
      "cell_type": "code",
      "source": [
        "accuracy = training_model.history['accuracy']\n",
        "val_accuracy = training_model.history['val_accuracy']\n",
        "loss = training_model.history['loss']\n",
        "val_loss = training_model.history['val_loss']"
      ],
      "metadata": {
        "id": "MbBO_b-zDIw7"
      },
      "execution_count": null,
      "outputs": []
    },
    {
      "cell_type": "code",
      "source": [
        "MultiQC_test = np.load('/content/drive/MyDrive/virtual_QC/test_dodeca.npy')\n",
        "others_test = np.load('/content/drive/MyDrive/virtual_QC/test_others.npy')\n",
        "MultiQC_test = MultiQC_test.reshape(3000, 6000, 1)\n",
        "others_test = others_test.reshape(3000, 6000, 1)\n",
        "\n",
        "Result_QC = np.round(model.predict(MultiQC_test)[:, 1]).astype(int)\n",
        "Result_others = np.round(model.predict(others_test)[:, 1]).astype(int)\n",
        "\n",
        "print('Prediction result')\n",
        "print('QC : ', len(Result_QC), ', Others : ', len(Result_others))\n",
        "print(Result_others)\n",
        "print(Result_QC)"
      ],
      "metadata": {
        "id": "k2SnGGPABqKm",
        "colab": {
          "base_uri": "https://localhost:8080/"
        },
        "outputId": "1d1c5bfc-b3c5-4eda-f64b-e43dac756b8f"
      },
      "execution_count": null,
      "outputs": [
        {
          "output_type": "stream",
          "name": "stdout",
          "text": [
            "(32, 6000, 64)\n",
            "(32, 2000, 64)\n",
            "(32, 2000, 64)\n",
            "(32, 667, 64)\n",
            "(32, 334, 64)\n",
            "(32, 10688)\n",
            "\u001b[1m78/94\u001b[0m \u001b[32m━━━━━━━━━━━━━━━━\u001b[0m\u001b[37m━━━━\u001b[0m \u001b[1m0s\u001b[0m 2ms/step(None, 6000, 64)\n",
            "(None, 2000, 64)\n",
            "(None, 2000, 64)\n",
            "(None, 667, 64)\n",
            "(None, 334, 64)\n",
            "(None, 10688)\n",
            "\u001b[1m94/94\u001b[0m \u001b[32m━━━━━━━━━━━━━━━━━━━━\u001b[0m\u001b[37m\u001b[0m \u001b[1m1s\u001b[0m 7ms/step\n",
            "\u001b[1m94/94\u001b[0m \u001b[32m━━━━━━━━━━━━━━━━━━━━\u001b[0m\u001b[37m\u001b[0m \u001b[1m0s\u001b[0m 2ms/step\n",
            "Prediction result\n",
            "QC :  3000 , Others :  3000\n",
            "[0 0 0 ... 0 0 0]\n",
            "[1 1 1 ... 1 1 1]\n"
          ]
        }
      ]
    },
    {
      "cell_type": "code",
      "source": [
        "MultiQC=model.predict(MultiQC_test)\n",
        "print(MultiQC)\n"
      ],
      "metadata": {
        "id": "0TkHW-q-3yF3",
        "colab": {
          "base_uri": "https://localhost:8080/"
        },
        "outputId": "a8c98aab-e857-4e49-8524-97ea5efbe578"
      },
      "execution_count": null,
      "outputs": [
        {
          "output_type": "stream",
          "name": "stdout",
          "text": [
            "\u001b[1m94/94\u001b[0m \u001b[32m━━━━━━━━━━━━━━━━━━━━\u001b[0m\u001b[37m\u001b[0m \u001b[1m0s\u001b[0m 2ms/step\n",
            "[[3.9734248e-02 9.6026576e-01]\n",
            " [2.0845337e-01 7.9154658e-01]\n",
            " [1.5698476e-02 9.8430151e-01]\n",
            " ...\n",
            " [3.2153650e-04 9.9967849e-01]\n",
            " [1.0051444e-03 9.9899489e-01]\n",
            " [4.3425739e-02 9.5657426e-01]]\n"
          ]
        }
      ]
    },
    {
      "cell_type": "code",
      "source": [
        "others=model.predict(others_test)\n",
        "print(others)"
      ],
      "metadata": {
        "id": "JyJvmqIE0rRF",
        "colab": {
          "base_uri": "https://localhost:8080/"
        },
        "outputId": "aea985cc-c24f-45d9-ac71-c6b59504df93"
      },
      "execution_count": null,
      "outputs": [
        {
          "output_type": "stream",
          "name": "stdout",
          "text": [
            "\u001b[1m94/94\u001b[0m \u001b[32m━━━━━━━━━━━━━━━━━━━━\u001b[0m\u001b[37m\u001b[0m \u001b[1m0s\u001b[0m 2ms/step\n",
            "[[9.8458409e-01 1.5415952e-02]\n",
            " [9.1230160e-01 8.7698378e-02]\n",
            " [9.9122041e-01 8.7796571e-03]\n",
            " ...\n",
            " [9.9968994e-01 3.1004247e-04]\n",
            " [9.9723226e-01 2.7677629e-03]\n",
            " [9.8649979e-01 1.3500240e-02]]\n"
          ]
        }
      ]
    },
    {
      "cell_type": "code",
      "source": [
        "data = list(MultiQC)\n",
        "left_elements = [arr[1] for arr in data]\n",
        "count_greater_than_0_5 = len([x for x in left_elements if x > 0.5])\n",
        "TP=count_greater_than_0_5\n",
        "FN=len(Result_QC)-count_greater_than_0_5\n",
        "print(\"TP:\", TP)\n",
        "print(\"FN:\", FN)\n",
        "\n",
        "data = list(others)\n",
        "left_elements = [arr[0] for arr in data]\n",
        "count_greater_than_0_5 = len([x for x in left_elements if x > 0.5])\n",
        "FP=len(Result_others)-count_greater_than_0_5\n",
        "TN=count_greater_than_0_5\n",
        "print(\"FP:\", FP)\n",
        "print(\"TN:\", TN)\n",
        "\n",
        "Accuracy=(TP+TN)/(TP+TN+FP+FN)\n",
        "Recall=1-FN/(TP+FN)\n",
        "Precision=1-FP/(TP+FP)\n",
        "\n",
        "\n",
        "print(\"Accuracy:\", Accuracy)\n",
        "print(\"Recall:\", Recall)\n",
        "print(\"Precision:\", Precision)\n"
      ],
      "metadata": {
        "id": "KISvE4zIwQ43",
        "colab": {
          "base_uri": "https://localhost:8080/"
        },
        "outputId": "ad386bba-b502-4f69-caa8-1af9e7ea45ab"
      },
      "execution_count": null,
      "outputs": [
        {
          "output_type": "stream",
          "name": "stdout",
          "text": [
            "TP: 2991\n",
            "FN: 9\n",
            "FP: 104\n",
            "TN: 2896\n",
            "Accuracy: 0.9811666666666666\n",
            "Recall: 0.997\n",
            "Precision: 0.9663974151857835\n"
          ]
        }
      ]
    },
    {
      "cell_type": "code",
      "source": [
        "import matplotlib.pyplot as plt\n",
        "\n",
        "\n",
        "\n",
        "plt.plot(training_model.history['accuracy'], label='Training Accuracy')\n",
        "plt.plot(training_model.history['val_accuracy'], label='Validation Accuracy')\n",
        "plt.xlabel('Epochs')\n",
        "plt.ylabel('Accuracy')\n",
        "plt.title('Training and Validation Accuracy')\n",
        "plt.legend()\n",
        "\n",
        "\n",
        "plt.show()"
      ],
      "metadata": {
        "colab": {
          "base_uri": "https://localhost:8080/",
          "height": 472
        },
        "id": "VWdhzbr1JjQp",
        "outputId": "9ac1b0a4-1412-4a77-8c97-85cf5d093d43"
      },
      "execution_count": null,
      "outputs": [
        {
          "output_type": "display_data",
          "data": {
            "text/plain": [
              "<Figure size 640x480 with 1 Axes>"
            ],
            "image/png": "[encoded data removed]"
          },
          "metadata": {}
        }
      ]
    },
    {
      "cell_type": "code",
      "source": [
        "import matplotlib.pyplot as plt\n",
        "\n",
        "\n",
        "plt.plot(training_model.history['loss'], label='Training Loss')\n",
        "plt.plot(training_model.history['val_loss'], label='Validation Loss')\n",
        "plt.xlabel('Epochs')\n",
        "plt.ylabel('Loss')\n",
        "plt.title('Training and Validation Loss')\n",
        "plt.legend()\n",
        "\n",
        "\n",
        "plt.show()"
      ],
      "metadata": {
        "colab": {
          "base_uri": "https://localhost:8080/",
          "height": 472
        },
        "id": "SnVzIANvTfTl",
        "outputId": "f61d1951-2ad5-403c-d5aa-381f6b956079"
      },
      "execution_count": null,
      "outputs": [
        {
          "output_type": "display_data",
          "data": {
            "text/plain": [
              "<Figure size 640x480 with 1 Axes>"
            ],
            "image/png": "[encoded data removed]"
          },
          "metadata": {}
        }
      ]
    },
    {
      "cell_type": "code",
      "source": [
        "import matplotlib.pyplot as plt\n",
        "\n",
        "def plot_loss_vs_accuracy(loss, accuracy, val_loss, val_accuracy):\n",
        "    \"\"\"\n",
        "    損失と精度の関係をプロットする関数\n",
        "\n",
        "    Parameters:\n",
        "        loss (list): トレーニングデータの損失リスト\n",
        "        accuracy (list): トレーニングデータの精度リスト\n",
        "        val_loss (list): 検証データの損失リスト\n",
        "        val_accuracy (list): 検証データの精度リスト\n",
        "    \"\"\"\n",
        "    plt.figure(figsize=(6, 6))\n",
        "    plt.scatter(loss, accuracy, color='blue', label='Training (Loss vs Accuracy)')\n",
        "    plt.scatter(val_loss, val_accuracy, color='red', label='Validation (Loss vs Accuracy)')\n",
        "    plt.title('Accuracy vs Loss')\n",
        "    plt.xlabel('Loss')\n",
        "    plt.ylabel('Accuracy')\n",
        "    plt.legend()\n",
        "    plt.grid(True)\n",
        "    plt.show()\n",
        "\n",
        "\n",
        "plot_loss_vs_accuracy(loss, accuracy, val_loss, val_accuracy)"
      ],
      "metadata": {
        "id": "IDGk3AjHEmEL",
        "colab": {
          "base_uri": "https://localhost:8080/",
          "height": 564
        },
        "outputId": "5978adcf-c1fb-4af8-e586-137801d4b477"
      },
      "execution_count": null,
      "outputs": [
        {
          "output_type": "display_data",
          "data": {
            "text/plain": [
              "<Figure size 600x600 with 1 Axes>"
            ],
            "image/png": "[encoded data removed]"
          },
          "metadata": {}
        }
      ]
    },
    {
      "cell_type": "code",
      "source": [
        "# import numpy as np\n",
        "# data = list(MultiQC)\n",
        "\n",
        "# # print(data)\n",
        "\n",
        "\n",
        "\n",
        "# # 各 array の左側の要素（最初の値）を取り出す\n",
        "# left_elements = [arr[1] for arr in data]\n",
        "\n",
        "# # 結果を表示\n",
        "# print(\"左側の要素のみ:\", left_elements)\n",
        "\n",
        "# # 0.5より大きい要素を数える\n",
        "# count_greater_than_0_5 = len([x for x in left_elements if x > 0.5])\n",
        "\n",
        "# # 結果を表示\n",
        "# print(\"0.5より大きい要素の数:\", count_greater_than_0_5)"
      ],
      "metadata": {
        "id": "SoPHiWWdsCk-"
      },
      "execution_count": null,
      "outputs": []
    },
    {
      "cell_type": "code",
      "source": [],
      "metadata": {
        "id": "d9wgleWy6jIG"
      },
      "execution_count": null,
      "outputs": []
    }
  ]
}